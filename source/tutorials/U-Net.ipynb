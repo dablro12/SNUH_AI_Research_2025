{
 "cells": [
  {
   "cell_type": "code",
   "execution_count": 4,
   "metadata": {},
   "outputs": [],
   "source": [
    "import os\n",
    "import re\n",
    "import glob\n",
    "\n",
    "import numpy as np\n",
    "from PIL import Image\n",
    "from tqdm import tqdm\n",
    "import matplotlib.pyplot as plt\n",
    "\n",
    "\n",
    "import torch\n",
    "import torch.nn as nn\n",
    "import torch.optim as optim\n",
    "import torch.nn.functional as F\n",
    "from torch.utils.data import Subset\n",
    "\n",
    "from torchvision import transforms\n",
    "from torchvision.transforms import v2\n",
    "from torch.utils.data import Dataset, DataLoader\n",
    "from torchinfo import summary"
   ]
  },
  {
   "cell_type": "code",
   "execution_count": 3,
   "metadata": {},
   "outputs": [
    {
     "data": {
      "text/plain": [
       "device(type='cuda')"
      ]
     },
     "execution_count": 3,
     "metadata": {},
     "output_type": "execute_result"
    }
   ],
   "source": [
    "device = torch.device('cuda' if torch.cuda.is_available() else 'cpu')\n",
    "\n",
    "device"
   ]
  },
  {
   "cell_type": "markdown",
   "metadata": {},
   "source": [
    "### Dataset"
   ]
  },
  {
   "cell_type": "code",
   "execution_count": 3,
   "metadata": {},
   "outputs": [],
   "source": [
    "class CAGDataset(Dataset) :\n",
    "    def __init__(self, img_path, mask_path, transform = None) :\n",
    "        self.img_path = img_path\n",
    "        self.mask_path = mask_path\n",
    "        self.transform = transform\n",
    "        \n",
    "    def __len__(self) :\n",
    "        return len(self.img_path)\n",
    "    \n",
    "    def __getitem__(self, index) :\n",
    "        img = Image.open(self.img_path[index]).convert('RGB')\n",
    "        mask = Image.open(self.mask_path[index]).convert('L')\n",
    "        \n",
    "        if self.transform :\n",
    "            img = self.transform(img)\n",
    "        \n",
    "        mask_transform = v2.Compose([\n",
    "            v2.ToTensor(),\n",
    "            v2.Resize((224, 224)),\n",
    "        ])\n",
    "        mask = mask_transform(mask)\n",
    "        \n",
    "        return img, mask"
   ]
  },
  {
   "cell_type": "markdown",
   "metadata": {},
   "source": [
    "### U-Net"
   ]
  },
  {
   "cell_type": "code",
   "execution_count": 4,
   "metadata": {},
   "outputs": [],
   "source": [
    "class DoubleConv(nn.Module) :\n",
    "    def __init__(self, in_channels, out_channels, mid_channels = None) :\n",
    "        super().__init__()\n",
    "        if not mid_channels :\n",
    "            mid_channels = out_channels\n",
    "            \n",
    "        self.double_conv = nn.Sequential(\n",
    "            nn.Conv2d(in_channels, mid_channels, kernel_size = 3, padding = 1),\n",
    "            nn.BatchNorm2d(mid_channels),\n",
    "            nn.ReLU(inplace = True),\n",
    "            nn.Conv2d(mid_channels, out_channels, kernel_size = 3, padding = 1),\n",
    "            nn.BatchNorm2d(out_channels),\n",
    "            nn.ReLU(inplace = True)\n",
    "        )\n",
    "\n",
    "    def forward(self, x) :\n",
    "        return self.double_conv(x)\n",
    "\n",
    "\n",
    "class Down(nn.Module) :\n",
    "    def __init__(self, in_channels, out_channels) :\n",
    "        super().__init__()\n",
    "        self.maxpool_conv = nn.Sequential(\n",
    "            nn.MaxPool2d(2),\n",
    "            DoubleConv(in_channels, out_channels)\n",
    "        )\n",
    "\n",
    "    def forward(self, x) :\n",
    "        return self.maxpool_conv(x)\n",
    "\n",
    "\n",
    "class Up(nn.Module) :\n",
    "    def __init__(self, in_channels, out_channels, bilinear = True) :\n",
    "        super().__init__()\n",
    "        if bilinear :\n",
    "            self.up = nn.Upsample(scale_factor = 2, mode = 'bilinear', align_corners = True)\n",
    "            self.conv = DoubleConv(in_channels, out_channels, in_channels // 2)\n",
    "        else :\n",
    "            self.up = nn.ConvTranspose2d(in_channels , in_channels // 2, kernel_size = 2, stride = 2)\n",
    "            self.conv = DoubleConv(in_channels, out_channels)\n",
    "\n",
    "    def forward(self, x1, x2) :\n",
    "        x1 = self.up(x1)\n",
    "        \n",
    "        # CHW\n",
    "        diffY = x2.size()[2] - x1.size()[2]\n",
    "        diffX = x2.size()[3] - x1.size()[3]\n",
    "\n",
    "        x1 = F.pad(x1, [diffX // 2, diffX - diffX // 2,\n",
    "                        diffY // 2, diffY - diffY // 2])\n",
    "        \n",
    "        x = torch.cat([x2, x1], dim = 1)\n",
    "        \n",
    "        return self.conv(x)\n",
    "\n",
    "\n",
    "class OutConv(nn.Module) :\n",
    "    def __init__(self, in_channels, out_channels) :\n",
    "        super(OutConv, self).__init__()\n",
    "        self.conv = nn.Conv2d(in_channels, out_channels, kernel_size = 1)\n",
    "\n",
    "    def forward(self, x) :\n",
    "        return self.conv(x)\n",
    "\n",
    "class UNet(nn.Module) :\n",
    "    def __init__(self, in_channels, out_channels, bilinear = True) :\n",
    "        super(UNet, self).__init__()\n",
    "        self.in_channels = in_channels\n",
    "        self.out_channels = out_channels\n",
    "        self.bilinear = bilinear\n",
    "\n",
    "        self.inc = DoubleConv(in_channels, 64)\n",
    "        self.down1 = Down(64, 128)\n",
    "        self.down2 = Down(128, 256)\n",
    "        self.down3 = Down(256, 512)\n",
    "        factor = 2 if bilinear else 1\n",
    "        self.down4 = Down(512, 1024 // factor)\n",
    "        self.up1 = Up(1024, 512 // factor, bilinear)\n",
    "        self.up2 = Up(512, 256 // factor, bilinear)\n",
    "        self.up3 = Up(256, 128 // factor, bilinear)\n",
    "        self.up4 = Up(128, 64, bilinear)\n",
    "        self.outc = OutConv(64, out_channels)\n",
    "\n",
    "    def forward(self, x) :\n",
    "        x1 = self.inc(x)\n",
    "        x2 = self.down1(x1)\n",
    "        x3 = self.down2(x2)\n",
    "        x4 = self.down3(x3)\n",
    "        x5 = self.down4(x4)\n",
    "        x = self.up1(x5, x4)\n",
    "        x = self.up2(x, x3)\n",
    "        x = self.up3(x, x2)\n",
    "        x = self.up4(x, x1)\n",
    "        logits = self.outc(x)\n",
    "        \n",
    "        return logits    "
   ]
  },
  {
   "cell_type": "code",
   "execution_count": null,
   "metadata": {},
   "outputs": [],
   "source": [
    "ex = UNet(in_channels = 3, out_channels = 1)\n",
    "summary(ex, input_size = (1, 3, 224, 224), device='cpu')"
   ]
  },
  {
   "cell_type": "markdown",
   "metadata": {},
   "source": [
    "### DataLoader"
   ]
  },
  {
   "cell_type": "code",
   "execution_count": 6,
   "metadata": {},
   "outputs": [],
   "source": [
    "img_path0 = \"/project/image/ARCADE\"\n",
    "mask_path0 = \"/project/mask/0521\""
   ]
  },
  {
   "cell_type": "code",
   "execution_count": 7,
   "metadata": {},
   "outputs": [],
   "source": [
    "# 자연 정렬 함수\n",
    "def natural_key(text):\n",
    "    return [int(t) if t.isdigit() else t.lower() for t in re.split('(\\d+)', text)]\n",
    "\n",
    "img_path = glob.glob(os.path.join(img_path0, \"*.png\"))\n",
    "img_path = sorted(img_path, key = natural_key)\n",
    "mask_path = glob.glob(os.path.join(mask_path0, \"*.png\"))\n",
    "mask_path = sorted(mask_path, key = natural_key)"
   ]
  },
  {
   "cell_type": "code",
   "execution_count": null,
   "metadata": {},
   "outputs": [],
   "source": [
    "CAG_transform = v2.Compose([\n",
    "    v2.ToTensor(),\n",
    "    v2.Normalize([0.485, 0.456, 0.406], [0.229, 0.224, 0.225]),\n",
    "    v2.Resize((224, 224)),\n",
    "])"
   ]
  },
  {
   "cell_type": "code",
   "execution_count": 9,
   "metadata": {},
   "outputs": [],
   "source": [
    "CAG_dataset = CAGDataset(img_path, mask_path, transform = CAG_transform)\n",
    "train_dataset = Subset(CAG_dataset, range(0, 70))\n",
    "valid_dataset = Subset(CAG_dataset, range(70, 90))\n",
    "test_dataset = Subset(CAG_dataset, range(90, 100))\n",
    "\n",
    "batch_size = 8\n",
    "\n",
    "train_loader = DataLoader(train_dataset, batch_size, shuffle = True)\n",
    "valid_loader = DataLoader(valid_dataset, batch_size, shuffle = False)\n",
    "test_loader = DataLoader(test_dataset, batch_size, shuffle = False)"
   ]
  },
  {
   "cell_type": "code",
   "execution_count": 10,
   "metadata": {},
   "outputs": [],
   "source": [
    "# for image, mask in train_loader :\n",
    "#     print(f\"image shape : {image.shape}\\nmask shape : {mask.shape}\")\n",
    "    \n",
    "#     img = image[0].squeeze(0)\n",
    "#     msk = mask[0]\n",
    "    \n",
    "#     img_np = img.permute(1, 2, 0).cpu().numpy()\n",
    "#     msk_np = msk.permute(1, 2, 0).cpu().numpy()\n",
    "    \n",
    "#     plt.figure(dpi = 128)\n",
    "#     plt.subplot(121)\n",
    "#     plt.imshow(img_np, cmap = \"gray\")\n",
    "#     plt.subplot(122)\n",
    "#     plt.imshow(msk_np, cmap = \"gray\")\n",
    "#     plt.show()\n",
    "#     break"
   ]
  },
  {
   "cell_type": "markdown",
   "metadata": {},
   "source": [
    "### Train"
   ]
  },
  {
   "cell_type": "code",
   "execution_count": 11,
   "metadata": {},
   "outputs": [],
   "source": [
    "model = UNet(in_channels = 3, out_channels = 1).to(device)\n",
    "\n",
    "n_epochs = 3\n",
    "criterion = nn.BCEWithLogitsLoss()\n",
    "optimizer = optim.Adam(model.parameters(), lr = 1e-6)"
   ]
  },
  {
   "cell_type": "code",
   "execution_count": null,
   "metadata": {},
   "outputs": [],
   "source": [
    "train_list = []\n",
    "valid_list = []\n",
    "\n",
    "for epoch in range(n_epochs) :\n",
    "        model.train()\n",
    "        train_loss = 0\n",
    "\n",
    "        for image, mask in tqdm(train_loader, desc = f\"Train - Epoch {epoch + 1}\") :\n",
    "                image = image.to(device)\n",
    "                mask = mask.to(device)\n",
    "                \n",
    "                output = model(image)\n",
    "                loss = criterion(output, mask)\n",
    "                optimizer.zero_grad()\n",
    "                loss.backward()\n",
    "                optimizer.step()\n",
    "                \n",
    "                train_loss += loss.item() * image.size(0)\n",
    "        \n",
    "        train_loss /= len(train_loader.dataset)\n",
    "        train_list.append(train_loss)\n",
    "\n",
    "        model.eval()\n",
    "        valid_loss = 0\n",
    "        with torch.no_grad() :\n",
    "                for image, mask in tqdm(valid_loader, desc = f\"Valid - Epoch {epoch + 1}\") :\n",
    "                        image = image.to(device)\n",
    "                        mask = mask.to(device)\n",
    "                        \n",
    "                        output = model(image)\n",
    "                        loss = criterion(output, mask)\n",
    "                        \n",
    "                        valid_loss += loss.item() * image.size(0)\n",
    "        \n",
    "        valid_loss /= len(valid_loader.dataset)\n",
    "        valid_list.append(valid_loss)\n",
    "        \n",
    "        print(f'Epoch {epoch + 1} : train_loss = {train_loss:.4f}, val_loss = {valid_loss:.4f}')  "
   ]
  },
  {
   "cell_type": "code",
   "execution_count": null,
   "metadata": {},
   "outputs": [],
   "source": [
    "plt.figure(figsize = (12, 6))\n",
    "\n",
    "width = range(1, n_epochs + 1)\n",
    "plt.plot(width, train_list, label = \"Train Loss\")\n",
    "plt.plot(width, valid_list, label = \"Valid Loss\")\n",
    "plt.xlabel(\"Epochs\")\n",
    "plt.ylabel(\"Loss\")\n",
    "plt.title(\"Loss\")\n",
    "plt.legend()\n",
    "plt.grid(True)\n",
    "plt.tight_layout()\n",
    "plt.show()"
   ]
  },
  {
   "cell_type": "markdown",
   "metadata": {},
   "source": [
    "### Test"
   ]
  },
  {
   "cell_type": "code",
   "execution_count": 19,
   "metadata": {},
   "outputs": [],
   "source": [
    "def compute_metrics(preds, masks, smooth = 1e-6) :\n",
    "    preds_flat = preds.view(preds.size(0), -1)\n",
    "    masks_flat = masks.view(masks.size(0), -1)\n",
    "    intersection = (preds_flat * masks_flat).sum(1)\n",
    "    union = preds_flat.sum(1) + masks_flat.sum(1) - intersection\n",
    "    iou = (intersection + smooth) / (union + smooth)\n",
    "    jaccard_distance = 1 - iou\n",
    "    dice = (2 * intersection + smooth) / (preds_flat.sum(1) + masks_flat.sum(1) + smooth)\n",
    "    return iou.mean().item(), jaccard_distance.mean().item(), dice.mean().item()"
   ]
  },
  {
   "cell_type": "code",
   "execution_count": null,
   "metadata": {},
   "outputs": [],
   "source": [
    "model.eval()\n",
    "Dice_scores = []\n",
    "IoU_scores = []\n",
    "Jaccard_distances = []\n",
    "\n",
    "last_image = None\n",
    "last_pred = None\n",
    "last_mask = None\n",
    "\n",
    "with torch.no_grad() :\n",
    "    for image, mask in tqdm(test_loader, desc = \"Test\") :\n",
    "        image = image.to(device)\n",
    "        mask = mask.to(device)\n",
    "        \n",
    "        output = torch.sigmoid(model(image))\n",
    "        pred = (output > 0.5).float()\n",
    "        \n",
    "        iou, jdist, dice = compute_metrics(pred, mask)\n",
    "        IoU_scores.append(iou)\n",
    "        Jaccard_distances.append(jdist)\n",
    "        Dice_scores.append(dice)\n",
    "        \n",
    "        last_image = image[-1].cpu()\n",
    "        last_pred = pred[-1].cpu()\n",
    "        last_mask = mask[-1].cpu()\n",
    "        "
   ]
  },
  {
   "cell_type": "markdown",
   "metadata": {},
   "source": [
    "### Visualize"
   ]
  },
  {
   "cell_type": "code",
   "execution_count": null,
   "metadata": {},
   "outputs": [],
   "source": [
    "print(f\"last_image : {last_image.shape}\")\n",
    "print(f\"last_mask : {last_mask.shape}\")\n",
    "print(f\"last_pred : {last_pred.shape}\")"
   ]
  },
  {
   "cell_type": "code",
   "execution_count": null,
   "metadata": {},
   "outputs": [],
   "source": [
    "plt.figure(figsize=(12, 6))\n",
    "\n",
    "plt.subplot(131)\n",
    "plt.imshow(last_image.permute(1, 2, 0).numpy(), cmap = 'gray')\n",
    "plt.title(\"Input Image\")\n",
    "\n",
    "plt.subplot(132)\n",
    "plt.imshow(last_mask.squeeze().numpy(), cmap = 'gray')\n",
    "plt.title(\"Ground Truth Mask\")\n",
    "\n",
    "plt.subplot(133)\n",
    "plt.imshow(last_pred.squeeze().numpy(), cmap = 'gray')\n",
    "plt.title(\"Predicted Mask\")\n",
    "\n",
    "plt.tight_layout()\n",
    "plt.show()"
   ]
  },
  {
   "cell_type": "code",
   "execution_count": null,
   "metadata": {},
   "outputs": [],
   "source": [
    "plt.figure(figsize = (12, 6))\n",
    "plt.boxplot([Dice_scores, IoU_scores, Jaccard_distances],\n",
    "            labels=['Dice', 'IoU', 'Jaccard Distance'])\n",
    "\n",
    "plt.title('Metric')\n",
    "plt.ylabel('Score')\n",
    "plt.grid(True)\n",
    "plt.tight_layout()\n",
    "plt.show()"
   ]
  },
  {
   "cell_type": "code",
   "execution_count": null,
   "metadata": {},
   "outputs": [],
   "source": [
    "plt.figure(figsize=(12, 6))\n",
    "\n",
    "plt.subplot(131)\n",
    "plt.hist(Dice_scores, bins = 20, color = 'skyblue')\n",
    "plt.title('Dice Score Distribution')\n",
    "plt.xlabel('Dice Score')\n",
    "plt.ylabel('Frequency')\n",
    "\n",
    "plt.subplot(132)\n",
    "plt.hist(IoU_scores, bins = 20, color = 'lightgreen')\n",
    "plt.title('IoU Score Distribution')\n",
    "plt.xlabel('IoU Score')\n",
    "\n",
    "plt.subplot(133)\n",
    "plt.hist(Jaccard_distances, bins = 20, color = 'salmon')\n",
    "plt.title('Jaccard Distance Distribution')\n",
    "plt.xlabel('Jaccard Distance')\n",
    "\n",
    "plt.tight_layout()\n",
    "plt.show()\n"
   ]
  },
  {
   "cell_type": "code",
   "execution_count": null,
   "metadata": {},
   "outputs": [],
   "source": []
  }
 ],
 "metadata": {
  "kernelspec": {
   "display_name": "eiden",
   "language": "python",
   "name": "python3"
  },
  "language_info": {
   "codemirror_mode": {
    "name": "ipython",
    "version": 3
   },
   "file_extension": ".py",
   "mimetype": "text/x-python",
   "name": "python",
   "nbconvert_exporter": "python",
   "pygments_lexer": "ipython3",
   "version": "3.10.0"
  }
 },
 "nbformat": 4,
 "nbformat_minor": 4
}
