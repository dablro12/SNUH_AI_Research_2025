{
 "cells": [
  {
   "cell_type": "code",
   "execution_count": 1,
   "metadata": {},
   "outputs": [],
   "source": [
    "import os\n",
    "import re\n",
    "import glob\n",
    "\n",
    "import numpy as np\n",
    "from PIL import Image\n",
    "from tqdm import tqdm\n",
    "import matplotlib.pyplot as plt\n",
    "\n",
    "\n",
    "import torch\n",
    "import torch.nn as nn\n",
    "import torch.optim as optim\n",
    "import torch.nn.functional as F\n",
    "from torch.utils.data import Subset\n",
    "\n",
    "from torchvision import transforms\n",
    "from torchvision.transforms import v2\n",
    "from torch.utils.data import Dataset, DataLoader\n",
    "\n",
    "from torchinfo import summary"
   ]
  },
  {
   "cell_type": "code",
   "execution_count": 2,
   "metadata": {},
   "outputs": [
    {
     "data": {
      "text/plain": [
       "device(type='cpu')"
      ]
     },
     "execution_count": 2,
     "metadata": {},
     "output_type": "execute_result"
    }
   ],
   "source": [
    "device = torch.device('cuda' if torch.cuda.is_available() else 'cpu')\n",
    "\n",
    "device"
   ]
  },
  {
   "cell_type": "markdown",
   "metadata": {},
   "source": [
    "### Dataset"
   ]
  },
  {
   "cell_type": "code",
   "execution_count": 3,
   "metadata": {},
   "outputs": [],
   "source": [
    "class CAGDataset(Dataset) :\n",
    "    def __init__(self, img_path, mask_path, transform = None) :\n",
    "        self.img_path = img_path\n",
    "        self.mask_path = mask_path\n",
    "        self.transform = transform\n",
    "        \n",
    "    def __len__(self) :\n",
    "        return len(self.img_path)\n",
    "    \n",
    "    def __getitem__(self, index) :\n",
    "        img = Image.open(self.img_path[index]).convert('RGB')\n",
    "        mask = Image.open(self.mask_path[index]).convert('L')\n",
    "        \n",
    "        if self.transform :\n",
    "            img = self.transform(img)\n",
    "        \n",
    "        mask_transform = v2.Compose([\n",
    "            v2.ToTensor(),\n",
    "            v2.Resize((224, 224)),\n",
    "        ])\n",
    "        mask = mask_transform(mask)\n",
    "        \n",
    "        return img, mask"
   ]
  },
  {
   "cell_type": "markdown",
   "metadata": {},
   "source": [
    "### Swin-Unet"
   ]
  },
  {
   "cell_type": "code",
   "execution_count": 4,
   "metadata": {},
   "outputs": [],
   "source": [
    "class PatchEmbedding(nn.Module) :\n",
    "    def __init__(self, in_channels = 1, embed_dim = 96, patch_size = 4) :\n",
    "        super().__init__()\n",
    "        self.proj = nn.Conv2d(in_channels, embed_dim, kernel_size = patch_size, stride = patch_size)\n",
    "\n",
    "    def forward(self, x):\n",
    "        return self.proj(x)\n",
    "\n",
    "class PatchExpand(nn.Module) :\n",
    "    def __init__(self, in_channels, out_channels) :\n",
    "        super().__init__()\n",
    "        self.up = nn.ConvTranspose2d(in_channels, out_channels, kernel_size = 2, stride = 2)\n",
    "\n",
    "    def forward(self, x) :\n",
    "        return self.up(x)\n",
    "\n",
    "class SwinBlock(nn.Module) :\n",
    "    def __init__(self, dim) :\n",
    "        super().__init__()\n",
    "        self.norm1 = nn.LayerNorm(dim)\n",
    "        self.attn = nn.MultiheadAttention(dim, num_heads = 4, batch_first = True)\n",
    "        self.norm2 = nn.LayerNorm(dim)\n",
    "        self.mlp = nn.Sequential(\n",
    "            nn.Linear(dim, dim * 4),\n",
    "            nn.GELU(),\n",
    "            nn.Linear(dim * 4, dim),\n",
    "        )\n",
    "\n",
    "    def forward(self, x) :\n",
    "        B, C, H, W = x.shape\n",
    "        x = x.flatten(2).transpose(1, 2)\n",
    "        x = self.norm1(x)\n",
    "        attn_output, _ = self.attn(x, x, x)\n",
    "        x = x + attn_output\n",
    "        x = self.norm2(x)\n",
    "        x = x + self.mlp(x)\n",
    "        x = x.transpose(1, 2).reshape(B, C, H, W)\n",
    "        \n",
    "        return x\n",
    "\n",
    "class SwinUNet(nn.Module) :\n",
    "    def __init__(self, in_channels = 1, out_channels = 3, base_dim = 96):\n",
    "        super().__init__()\n",
    "        self.patch_embed = PatchEmbedding(in_channels, embed_dim = base_dim)\n",
    "\n",
    "        self.encoder1 = SwinBlock(base_dim)\n",
    "        self.down1 = nn.Conv2d(base_dim, base_dim * 2, kernel_size = 2, stride = 2)\n",
    "        self.encoder2 = SwinBlock(base_dim * 2)\n",
    "        self.down2 = nn.Conv2d(base_dim * 2, base_dim * 4, kernel_size = 2, stride = 2)\n",
    "        self.bottleneck = SwinBlock(base_dim * 4)\n",
    "\n",
    "        self.up2 = PatchExpand(base_dim * 4, base_dim * 2)\n",
    "        self.decoder2 = SwinBlock(base_dim * 2)\n",
    "        self.up1 = PatchExpand(base_dim * 2, base_dim)\n",
    "        self.decoder1 = SwinBlock(base_dim)\n",
    "\n",
    "        self.final = nn.Conv2d(base_dim, out_channels, kernel_size = 1)\n",
    "\n",
    "    def forward(self, x) :\n",
    "        x = self.patch_embed(x)\n",
    "        e1 = self.encoder1(x)\n",
    "        e2 = self.encoder2(self.down1(e1))\n",
    "        b = self.bottleneck(self.down2(e2))\n",
    "\n",
    "        d2 = self.decoder2(self.up2(b) + e2)\n",
    "        d1 = self.decoder1(self.up1(d2) + e1)\n",
    "        out = self.final(d1)\n",
    "        \n",
    "        return out"
   ]
  },
  {
   "cell_type": "code",
   "execution_count": 5,
   "metadata": {},
   "outputs": [
    {
     "data": {
      "text/plain": [
       "==========================================================================================\n",
       "Layer (type:depth-idx)                   Output Shape              Param #\n",
       "==========================================================================================\n",
       "SwinUNet                                 [1, 1, 56, 56]            --\n",
       "├─PatchEmbedding: 1-1                    [1, 96, 56, 56]           --\n",
       "│    └─Conv2d: 2-1                       [1, 96, 56, 56]           4,704\n",
       "├─SwinBlock: 1-2                         [1, 96, 56, 56]           --\n",
       "│    └─LayerNorm: 2-2                    [1, 3136, 96]             192\n",
       "│    └─MultiheadAttention: 2-3           [1, 3136, 96]             37,248\n",
       "│    └─LayerNorm: 2-4                    [1, 3136, 96]             192\n",
       "│    └─Sequential: 2-5                   [1, 3136, 96]             --\n",
       "│    │    └─Linear: 3-1                  [1, 3136, 384]            37,248\n",
       "│    │    └─GELU: 3-2                    [1, 3136, 384]            --\n",
       "│    │    └─Linear: 3-3                  [1, 3136, 96]             36,960\n",
       "├─Conv2d: 1-3                            [1, 192, 28, 28]          73,920\n",
       "├─SwinBlock: 1-4                         [1, 192, 28, 28]          --\n",
       "│    └─LayerNorm: 2-6                    [1, 784, 192]             384\n",
       "│    └─MultiheadAttention: 2-7           [1, 784, 192]             148,224\n",
       "│    └─LayerNorm: 2-8                    [1, 784, 192]             384\n",
       "│    └─Sequential: 2-9                   [1, 784, 192]             --\n",
       "│    │    └─Linear: 3-4                  [1, 784, 768]             148,224\n",
       "│    │    └─GELU: 3-5                    [1, 784, 768]             --\n",
       "│    │    └─Linear: 3-6                  [1, 784, 192]             147,648\n",
       "├─Conv2d: 1-5                            [1, 384, 14, 14]          295,296\n",
       "├─SwinBlock: 1-6                         [1, 384, 14, 14]          --\n",
       "│    └─LayerNorm: 2-10                   [1, 196, 384]             768\n",
       "│    └─MultiheadAttention: 2-11          [1, 196, 384]             591,360\n",
       "│    └─LayerNorm: 2-12                   [1, 196, 384]             768\n",
       "│    └─Sequential: 2-13                  [1, 196, 384]             --\n",
       "│    │    └─Linear: 3-7                  [1, 196, 1536]            591,360\n",
       "│    │    └─GELU: 3-8                    [1, 196, 1536]            --\n",
       "│    │    └─Linear: 3-9                  [1, 196, 384]             590,208\n",
       "├─PatchExpand: 1-7                       [1, 192, 28, 28]          --\n",
       "│    └─ConvTranspose2d: 2-14             [1, 192, 28, 28]          295,104\n",
       "├─SwinBlock: 1-8                         [1, 192, 28, 28]          --\n",
       "│    └─LayerNorm: 2-15                   [1, 784, 192]             384\n",
       "│    └─MultiheadAttention: 2-16          [1, 784, 192]             148,224\n",
       "│    └─LayerNorm: 2-17                   [1, 784, 192]             384\n",
       "│    └─Sequential: 2-18                  [1, 784, 192]             --\n",
       "│    │    └─Linear: 3-10                 [1, 784, 768]             148,224\n",
       "│    │    └─GELU: 3-11                   [1, 784, 768]             --\n",
       "│    │    └─Linear: 3-12                 [1, 784, 192]             147,648\n",
       "├─PatchExpand: 1-9                       [1, 96, 56, 56]           --\n",
       "│    └─ConvTranspose2d: 2-19             [1, 96, 56, 56]           73,824\n",
       "├─SwinBlock: 1-10                        [1, 96, 56, 56]           --\n",
       "│    └─LayerNorm: 2-20                   [1, 3136, 96]             192\n",
       "│    └─MultiheadAttention: 2-21          [1, 3136, 96]             37,248\n",
       "│    └─LayerNorm: 2-22                   [1, 3136, 96]             192\n",
       "│    └─Sequential: 2-23                  [1, 3136, 96]             --\n",
       "│    │    └─Linear: 3-13                 [1, 3136, 384]            37,248\n",
       "│    │    └─GELU: 3-14                   [1, 3136, 384]            --\n",
       "│    │    └─Linear: 3-15                 [1, 3136, 96]             36,960\n",
       "├─Conv2d: 1-11                           [1, 1, 56, 56]            97\n",
       "==========================================================================================\n",
       "Total params: 3,630,817\n",
       "Trainable params: 3,630,817\n",
       "Non-trainable params: 0\n",
       "Total mult-adds (M): 595.69\n",
       "==========================================================================================\n",
       "Input size (MB): 0.60\n",
       "Forward/backward pass size (MB): 62.64\n",
       "Params size (MB): 10.67\n",
       "Estimated Total Size (MB): 73.92\n",
       "=========================================================================================="
      ]
     },
     "execution_count": 5,
     "metadata": {},
     "output_type": "execute_result"
    }
   ],
   "source": [
    "ex = SwinUNet(in_channels = 3, out_channels = 1)\n",
    "summary(ex, input_size = (1, 3, 224, 224), device='cpu')"
   ]
  },
  {
   "cell_type": "markdown",
   "metadata": {},
   "source": [
    "### DataLoader"
   ]
  },
  {
   "cell_type": "code",
   "execution_count": 6,
   "metadata": {},
   "outputs": [],
   "source": [
    "img_path0 = \"/project/image/ARCADE\"\n",
    "mask_path0 = \"/project/mask/0521\""
   ]
  },
  {
   "cell_type": "code",
   "execution_count": 7,
   "metadata": {},
   "outputs": [],
   "source": [
    "# 자연 정렬 함수\n",
    "def natural_key(text):\n",
    "    return [int(t) if t.isdigit() else t.lower() for t in re.split('(\\d+)', text)]\n",
    "\n",
    "img_path = glob.glob(os.path.join(img_path0, \"*.png\"))\n",
    "img_path = sorted(img_path, key = natural_key)\n",
    "mask_path = glob.glob(os.path.join(mask_path0, \"*.png\"))\n",
    "mask_path = sorted(mask_path, key = natural_key)"
   ]
  },
  {
   "cell_type": "code",
   "execution_count": null,
   "metadata": {},
   "outputs": [],
   "source": [
    "CAG_transform = v2.Compose([\n",
    "    v2.ToTensor(),\n",
    "    v2.Normalize([0.485, 0.456, 0.406], [0.229, 0.224, 0.225]),\n",
    "    v2.Resize((224, 224)),\n",
    "])"
   ]
  },
  {
   "cell_type": "code",
   "execution_count": 9,
   "metadata": {},
   "outputs": [],
   "source": [
    "CAG_dataset = CAGDataset(img_path, mask_path, transform = CAG_transform)\n",
    "train_dataset = Subset(CAG_dataset, range(0, 70))\n",
    "valid_dataset = Subset(CAG_dataset, range(70, 90))\n",
    "test_dataset = Subset(CAG_dataset, range(90, 100))\n",
    "\n",
    "batch_size = 8\n",
    "\n",
    "train_loader = DataLoader(train_dataset, batch_size, shuffle = True)\n",
    "valid_loader = DataLoader(valid_dataset, batch_size, shuffle = False)\n",
    "test_loader = DataLoader(test_dataset, batch_size, shuffle = False)"
   ]
  },
  {
   "cell_type": "code",
   "execution_count": 10,
   "metadata": {},
   "outputs": [],
   "source": [
    "# for image, mask in train_loader :\n",
    "#     print(f\"image shape : {image.shape}\\nmask shape : {mask.shape}\")\n",
    "    \n",
    "#     img = image[0].squeeze(0)\n",
    "#     msk = mask[0]\n",
    "    \n",
    "#     img_np = img.permute(1, 2, 0).cpu().numpy()\n",
    "#     msk_np = msk.permute(1, 2, 0).cpu().numpy()\n",
    "    \n",
    "#     plt.figure(dpi = 128)\n",
    "#     plt.subplot(121)\n",
    "#     plt.imshow(img_np, cmap = \"gray\")\n",
    "#     plt.subplot(122)\n",
    "#     plt.imshow(msk_np, cmap = \"gray\")\n",
    "#     plt.show()\n",
    "#     break"
   ]
  },
  {
   "cell_type": "markdown",
   "metadata": {},
   "source": [
    "### Train"
   ]
  },
  {
   "cell_type": "code",
   "execution_count": 11,
   "metadata": {},
   "outputs": [],
   "source": [
    "model = UNet(in_channels = 3, out_channels = 1).to(device)\n",
    "\n",
    "n_epochs = 3\n",
    "criterion = nn.BCEWithLogitsLoss()\n",
    "optimizer = optim.Adam(model.parameters(), lr = 1e-6)"
   ]
  },
  {
   "cell_type": "code",
   "execution_count": null,
   "metadata": {},
   "outputs": [],
   "source": [
    "train_list = []\n",
    "valid_list = []\n",
    "\n",
    "for epoch in range(n_epochs) :\n",
    "        model.train()\n",
    "        train_loss = 0\n",
    "\n",
    "        for image, mask in tqdm(train_loader, desc = f\"Train - Epoch {epoch + 1}\") :\n",
    "                image = image.to(device)\n",
    "                mask = mask.to(device)\n",
    "                \n",
    "                output = model(image)\n",
    "                loss = criterion(output, mask)\n",
    "                optimizer.zero_grad()\n",
    "                loss.backward()\n",
    "                optimizer.step()\n",
    "                \n",
    "                train_loss += loss.item() * image.size(0)\n",
    "        \n",
    "        train_loss /= len(train_loader.dataset)\n",
    "        train_list.append(train_loss)\n",
    "\n",
    "        model.eval()\n",
    "        valid_loss = 0\n",
    "        with torch.no_grad() :\n",
    "                for image, mask in tqdm(valid_loader, desc = f\"Valid - Epoch {epoch + 1}\") :\n",
    "                        image = image.to(device)\n",
    "                        mask = mask.to(device)\n",
    "                        \n",
    "                        output = model(image)\n",
    "                        loss = criterion(output, mask)\n",
    "                        \n",
    "                        valid_loss += loss.item() * image.size(0)\n",
    "        \n",
    "        valid_loss /= len(valid_loader.dataset)\n",
    "        valid_list.append(valid_loss)\n",
    "        \n",
    "        print(f'Epoch {epoch + 1} : train_loss = {train_loss:.4f}, val_loss = {valid_loss:.4f}')  "
   ]
  },
  {
   "cell_type": "code",
   "execution_count": null,
   "metadata": {},
   "outputs": [],
   "source": [
    "plt.figure(figsize = (12, 6))\n",
    "\n",
    "width = range(1, n_epochs + 1)\n",
    "plt.plot(width, train_list, label = \"Train Loss\")\n",
    "plt.plot(width, valid_list, label = \"Valid Loss\")\n",
    "plt.xlabel(\"Epochs\")\n",
    "plt.ylabel(\"Loss\")\n",
    "plt.title(\"Loss\")\n",
    "plt.legend()\n",
    "plt.grid(True)\n",
    "plt.tight_layout()\n",
    "plt.show()"
   ]
  },
  {
   "cell_type": "markdown",
   "metadata": {},
   "source": [
    "### Test"
   ]
  },
  {
   "cell_type": "code",
   "execution_count": 19,
   "metadata": {},
   "outputs": [],
   "source": [
    "def compute_metrics(preds, masks, smooth = 1e-6) :\n",
    "    preds_flat = preds.view(preds.size(0), -1)\n",
    "    masks_flat = masks.view(masks.size(0), -1)\n",
    "    intersection = (preds_flat * masks_flat).sum(1)\n",
    "    union = preds_flat.sum(1) + masks_flat.sum(1) - intersection\n",
    "    iou = (intersection + smooth) / (union + smooth)\n",
    "    jaccard_distance = 1 - iou\n",
    "    dice = (2 * intersection + smooth) / (preds_flat.sum(1) + masks_flat.sum(1) + smooth)\n",
    "    return iou.mean().item(), jaccard_distance.mean().item(), dice.mean().item()"
   ]
  },
  {
   "cell_type": "code",
   "execution_count": null,
   "metadata": {},
   "outputs": [],
   "source": [
    "model.eval()\n",
    "Dice_scores = []\n",
    "IoU_scores = []\n",
    "Jaccard_distances = []\n",
    "\n",
    "last_image = None\n",
    "last_pred = None\n",
    "last_mask = None\n",
    "\n",
    "with torch.no_grad() :\n",
    "    for image, mask in tqdm(test_loader, desc = \"Test\") :\n",
    "        image = image.to(device)\n",
    "        mask = mask.to(device)\n",
    "        \n",
    "        output = torch.sigmoid(model(image))\n",
    "        pred = (output > 0.5).float()\n",
    "        \n",
    "        iou, jdist, dice = compute_metrics(pred, mask)\n",
    "        IoU_scores.append(iou)\n",
    "        Jaccard_distances.append(jdist)\n",
    "        Dice_scores.append(dice)\n",
    "        \n",
    "        last_image = image[-1].cpu()\n",
    "        last_pred = pred[-1].cpu()\n",
    "        last_mask = mask[-1].cpu()\n",
    "        "
   ]
  },
  {
   "cell_type": "markdown",
   "metadata": {},
   "source": [
    "### Visualize"
   ]
  },
  {
   "cell_type": "code",
   "execution_count": null,
   "metadata": {},
   "outputs": [],
   "source": [
    "print(f\"last_image : {last_image.shape}\")\n",
    "print(f\"last_mask : {last_mask.shape}\")\n",
    "print(f\"last_pred : {last_pred.shape}\")"
   ]
  },
  {
   "cell_type": "code",
   "execution_count": null,
   "metadata": {},
   "outputs": [],
   "source": [
    "plt.figure(figsize=(12, 6))\n",
    "\n",
    "plt.subplot(131)\n",
    "plt.imshow(last_image.permute(1, 2, 0).numpy(), cmap = 'gray')\n",
    "plt.title(\"Input Image\")\n",
    "\n",
    "plt.subplot(132)\n",
    "plt.imshow(last_mask.squeeze().numpy(), cmap = 'gray')\n",
    "plt.title(\"Ground Truth Mask\")\n",
    "\n",
    "plt.subplot(133)\n",
    "plt.imshow(last_pred.squeeze().numpy(), cmap = 'gray')\n",
    "plt.title(\"Predicted Mask\")\n",
    "\n",
    "plt.tight_layout()\n",
    "plt.show()"
   ]
  },
  {
   "cell_type": "code",
   "execution_count": null,
   "metadata": {},
   "outputs": [],
   "source": [
    "plt.figure(figsize = (12, 6))\n",
    "plt.boxplot([Dice_scores, IoU_scores, Jaccard_distances],\n",
    "            labels=['Dice', 'IoU', 'Jaccard Distance'])\n",
    "\n",
    "plt.title('Metric')\n",
    "plt.ylabel('Score')\n",
    "plt.grid(True)\n",
    "plt.tight_layout()\n",
    "plt.show()"
   ]
  },
  {
   "cell_type": "code",
   "execution_count": null,
   "metadata": {},
   "outputs": [],
   "source": [
    "plt.figure(figsize=(12, 6))\n",
    "\n",
    "plt.subplot(131)\n",
    "plt.hist(Dice_scores, bins = 20, color = 'skyblue')\n",
    "plt.title('Dice Score Distribution')\n",
    "plt.xlabel('Dice Score')\n",
    "plt.ylabel('Frequency')\n",
    "\n",
    "plt.subplot(132)\n",
    "plt.hist(IoU_scores, bins = 20, color = 'lightgreen')\n",
    "plt.title('IoU Score Distribution')\n",
    "plt.xlabel('IoU Score')\n",
    "\n",
    "plt.subplot(133)\n",
    "plt.hist(Jaccard_distances, bins = 20, color = 'salmon')\n",
    "plt.title('Jaccard Distance Distribution')\n",
    "plt.xlabel('Jaccard Distance')\n",
    "\n",
    "plt.tight_layout()\n",
    "plt.show()\n"
   ]
  }
 ],
 "metadata": {
  "kernelspec": {
   "display_name": "Python 3 (ipykernel)",
   "language": "python",
   "name": "python3"
  },
  "language_info": {
   "codemirror_mode": {
    "name": "ipython",
    "version": 3
   },
   "file_extension": ".py",
   "mimetype": "text/x-python",
   "name": "python",
   "nbconvert_exporter": "python",
   "pygments_lexer": "ipython3",
   "version": "3.10.16"
  }
 },
 "nbformat": 4,
 "nbformat_minor": 4
}
