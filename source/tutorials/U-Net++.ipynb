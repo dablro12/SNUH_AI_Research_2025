{
 "cells": [
  {
   "cell_type": "code",
   "execution_count": 1,
   "metadata": {},
   "outputs": [],
   "source": [
    "import os\n",
    "import re\n",
    "import glob\n",
    "\n",
    "import numpy as np\n",
    "from PIL import Image\n",
    "from tqdm import tqdm\n",
    "import matplotlib.pyplot as plt\n",
    "\n",
    "\n",
    "import torch\n",
    "import torch.nn as nn\n",
    "import torch.optim as optim\n",
    "import torch.nn.functional as F\n",
    "from torch.utils.data import Subset\n",
    "\n",
    "from torchvision import transforms\n",
    "from torchvision.transforms import v2\n",
    "from torch.utils.data import Dataset, DataLoader\n",
    "\n",
    "from torchinfo import summary"
   ]
  },
  {
   "cell_type": "code",
   "execution_count": 2,
   "metadata": {},
   "outputs": [
    {
     "data": {
      "text/plain": [
       "device(type='cuda')"
      ]
     },
     "execution_count": 2,
     "metadata": {},
     "output_type": "execute_result"
    }
   ],
   "source": [
    "device = torch.device('cuda' if torch.cuda.is_available() else 'cpu')\n",
    "\n",
    "device"
   ]
  },
  {
   "cell_type": "markdown",
   "metadata": {},
   "source": [
    "### Dataset"
   ]
  },
  {
   "cell_type": "code",
   "execution_count": 3,
   "metadata": {},
   "outputs": [],
   "source": [
    "class CAGDataset(Dataset) :\n",
    "    def __init__(self, img_path, mask_path, transform = None) :\n",
    "        self.img_path = img_path\n",
    "        self.mask_path = mask_path\n",
    "        self.transform = transform\n",
    "        \n",
    "    def __len__(self) :\n",
    "        return len(self.img_path)\n",
    "    \n",
    "    def __getitem__(self, index) :\n",
    "        img = Image.open(self.img_path[index]).convert('RGB')\n",
    "        mask = Image.open(self.mask_path[index]).convert('L')\n",
    "        \n",
    "        if self.transform :\n",
    "            img = self.transform(img)\n",
    "        \n",
    "        mask_transform = v2.Compose([\n",
    "            v2.ToTensor(),\n",
    "            v2.Resize((224, 224)),\n",
    "        ])\n",
    "        mask = mask_transform(mask)\n",
    "        \n",
    "        return img, mask"
   ]
  },
  {
   "cell_type": "markdown",
   "metadata": {},
   "source": [
    "### U-Net++"
   ]
  },
  {
   "cell_type": "code",
   "execution_count": 4,
   "metadata": {},
   "outputs": [],
   "source": [
    "class ConvBlock(nn.Module) :\n",
    "    def __init__(self, in_channels, out_channels) :\n",
    "        super().__init__()\n",
    "        self.block = nn.Sequential(\n",
    "            nn.Conv2d(in_channels, out_channels, kernel_size = 3, padding = 1),\n",
    "            nn.BatchNorm2d(out_channels),\n",
    "            nn.ReLU(inplace = True),\n",
    "            nn.Conv2d(out_channels, out_channels, kernel_size = 3, padding = 1),\n",
    "            nn.BatchNorm2d(out_channels),\n",
    "            nn.ReLU(inplace = True),\n",
    "        )\n",
    "\n",
    "    def forward(self, x) :\n",
    "        return self.block(x)\n",
    "\n",
    "class UNetPP(nn.Module) :\n",
    "    def __init__(self, in_channels, out_channels, base_channels = 64, deep_supervision = False):\n",
    "        super().__init__()\n",
    "        self.deep_supervision = deep_supervision\n",
    "\n",
    "        # encoder\n",
    "        self.conv00 = ConvBlock(in_channels, base_channels)\n",
    "        self.pool0 = nn.MaxPool2d(2)\n",
    "        self.conv10 = ConvBlock(base_channels, base_channels * 2)\n",
    "        self.pool1 = nn.MaxPool2d(2)\n",
    "        self.conv20 = ConvBlock(base_channels * 2, base_channels * 4)\n",
    "        self.pool2 = nn.MaxPool2d(2)\n",
    "        self.conv30 = ConvBlock(base_channels * 4, base_channels * 8)\n",
    "        self.pool3 = nn.MaxPool2d(2)\n",
    "        self.conv40 = ConvBlock(base_channels * 8, base_channels * 16)\n",
    "\n",
    "        # decoder - nested blocks\n",
    "        self.up01 = ConvBlock(base_channels + base_channels * 2, base_channels)\n",
    "        self.up11 = ConvBlock(base_channels * 2 + base_channels * 4, base_channels * 2)\n",
    "        self.up21 = ConvBlock(base_channels * 4 + base_channels * 8, base_channels * 4)\n",
    "        self.up31 = ConvBlock(base_channels * 8 + base_channels * 16, base_channels * 8)\n",
    "\n",
    "        self.up02 = ConvBlock(base_channels * 2 + base_channels + base_channels, base_channels)\n",
    "        self.up12 = ConvBlock(base_channels * 4 + base_channels * 2 + base_channels * 2, base_channels * 2)\n",
    "        self.up22 = ConvBlock(base_channels * 8 + base_channels * 4 + base_channels * 4, base_channels * 4)\n",
    "\n",
    "        self.up03 = ConvBlock(base_channels * 2 + base_channels + base_channels + base_channels, base_channels)\n",
    "        self.up13 = ConvBlock(base_channels * 4 + base_channels * 2 + base_channels * 2 + base_channels * 2, base_channels * 2)\n",
    "\n",
    "        self.up04 = ConvBlock(base_channels * 2 + base_channels + base_channels + base_channels + base_channels, base_channels)\n",
    "\n",
    "        # output layer(s)\n",
    "        if self.deep_supervision :\n",
    "            self.final1 = nn.Conv2d(base_channels, out_channels, kernel_size = 1)\n",
    "            self.final2 = nn.Conv2d(base_channels, out_channels, kernel_size = 1)\n",
    "            self.final3 = nn.Conv2d(base_channels, out_channels, kernel_size = 1)\n",
    "            self.final4 = nn.Conv2d(base_channels, out_channels, kernel_size = 1)\n",
    "        else:\n",
    "            self.final = nn.Conv2d(base_channels, out_channels, kernel_size = 1)\n",
    "\n",
    "    def forward(self, x) :\n",
    "        x00 = self.conv00(x)\n",
    "        x10 = self.conv10(self.pool0(x00))\n",
    "        x20 = self.conv20(self.pool1(x10))\n",
    "        x30 = self.conv30(self.pool2(x20))\n",
    "        x40 = self.conv40(self.pool3(x30))\n",
    "\n",
    "        x01 = self.up01(torch.cat([x00, F.interpolate(x10, scale_factor = 2, mode = 'bilinear', align_corners = True)], dim = 1))\n",
    "        x11 = self.up11(torch.cat([x10, F.interpolate(x20, scale_factor = 2, mode = 'bilinear', align_corners = True)], dim = 1))\n",
    "        x21 = self.up21(torch.cat([x20, F.interpolate(x30, scale_factor = 2, mode = 'bilinear', align_corners = True)], dim = 1))\n",
    "        x31 = self.up31(torch.cat([x30, F.interpolate(x40, scale_factor = 2, mode = 'bilinear', align_corners = True)], dim = 1))\n",
    "\n",
    "        x02 = self.up02(torch.cat([x00, x01, F.interpolate(x11, scale_factor = 2, mode = 'bilinear', align_corners = True)], dim = 1))\n",
    "        x12 = self.up12(torch.cat([x10, x11, F.interpolate(x21, scale_factor = 2, mode = 'bilinear', align_corners = True)], dim = 1))\n",
    "        x22 = self.up22(torch.cat([x20, x21, F.interpolate(x31, scale_factor = 2, mode = 'bilinear', align_corners = True)], dim = 1))\n",
    "\n",
    "        x03 = self.up03(torch.cat([x00, x01, x02, F.interpolate(x12, scale_factor = 2, mode = 'bilinear', align_corners = True)], dim = 1))\n",
    "        x13 = self.up13(torch.cat([x10, x11, x12, F.interpolate(x22, scale_factor = 2, mode = 'bilinear', align_corners = True)], dim = 1))\n",
    "\n",
    "        x04 = self.up04(torch.cat([x00, x01, x02, x03, F.interpolate(x13, scale_factor = 2, mode = 'bilinear', align_corners = True)], dim = 1))\n",
    "\n",
    "        if self.deep_supervision:\n",
    "            return [\n",
    "                self.final1(x01),\n",
    "                self.final2(x02),\n",
    "                self.final3(x03),\n",
    "                self.final4(x04),\n",
    "            ]\n",
    "        else:\n",
    "            return self.final(x04)"
   ]
  },
  {
   "cell_type": "code",
   "execution_count": 5,
   "metadata": {},
   "outputs": [
    {
     "data": {
      "text/plain": [
       "torch.Size([1, 1, 224, 224])"
      ]
     },
     "execution_count": 5,
     "metadata": {},
     "output_type": "execute_result"
    }
   ],
   "source": [
    "ex = UNetPP(in_channels = 3, out_channels = 1)\n",
    "# summary(ex, input_size = (1, 3, 224, 224), device='cpu')\n",
    "\n",
    "ex(torch.randn(1, 3, 224, 224)).shape"
   ]
  },
  {
   "cell_type": "markdown",
   "metadata": {},
   "source": [
    "### DataLoader"
   ]
  },
  {
   "cell_type": "code",
   "execution_count": 6,
   "metadata": {},
   "outputs": [],
   "source": [
    "img_path0 = \"/project/image/ARCADE\"\n",
    "mask_path0 = \"/project/mask/0521\""
   ]
  },
  {
   "cell_type": "code",
   "execution_count": 7,
   "metadata": {},
   "outputs": [],
   "source": [
    "# 자연 정렬 함수\n",
    "def natural_key(text):\n",
    "    return [int(t) if t.isdigit() else t.lower() for t in re.split('(\\d+)', text)]\n",
    "\n",
    "img_path = glob.glob(os.path.join(img_path0, \"*.png\"))\n",
    "img_path = sorted(img_path, key = natural_key)\n",
    "mask_path = glob.glob(os.path.join(mask_path0, \"*.png\"))\n",
    "mask_path = sorted(mask_path, key = natural_key)"
   ]
  },
  {
   "cell_type": "code",
   "execution_count": 8,
   "metadata": {},
   "outputs": [
    {
     "name": "stderr",
     "output_type": "stream",
     "text": [
      "/home/medisc/miniconda3/envs/eiden/lib/python3.10/site-packages/torchvision/transforms/v2/_deprecated.py:42: UserWarning: The transform `ToTensor()` is deprecated and will be removed in a future release. Instead, please use `v2.Compose([v2.ToImage(), v2.ToDtype(torch.float32, scale=True)])`.Output is equivalent up to float precision.\n",
      "  warnings.warn(\n"
     ]
    }
   ],
   "source": [
    "CAG_transform = v2.Compose([\n",
    "    v2.ToTensor(),\n",
    "    v2.Normalize([0.485, 0.456, 0.406], [0.229, 0.224, 0.225]),\n",
    "    v2.Resize((224, 224)),\n",
    "])"
   ]
  },
  {
   "cell_type": "code",
   "execution_count": 9,
   "metadata": {},
   "outputs": [],
   "source": [
    "CAG_dataset = CAGDataset(img_path, mask_path, transform = CAG_transform)\n",
    "train_dataset = Subset(CAG_dataset, range(0, 70))\n",
    "valid_dataset = Subset(CAG_dataset, range(70, 90))\n",
    "test_dataset = Subset(CAG_dataset, range(90, 100))\n",
    "\n",
    "batch_size = 8\n",
    "\n",
    "train_loader = DataLoader(train_dataset, batch_size, shuffle = True)\n",
    "valid_loader = DataLoader(valid_dataset, batch_size, shuffle = False)\n",
    "test_loader = DataLoader(test_dataset, batch_size, shuffle = False)"
   ]
  },
  {
   "cell_type": "code",
   "execution_count": 10,
   "metadata": {},
   "outputs": [],
   "source": [
    "# for image, mask in train_loader :\n",
    "#     print(f\"image shape : {image.shape}\\nmask shape : {mask.shape}\")\n",
    "    \n",
    "#     img = image[0].squeeze(0)\n",
    "#     msk = mask[0]\n",
    "    \n",
    "#     img_np = img.permute(1, 2, 0).cpu().numpy()\n",
    "#     msk_np = msk.permute(1, 2, 0).cpu().numpy()\n",
    "    \n",
    "#     plt.figure(dpi = 128)\n",
    "#     plt.subplot(121)\n",
    "#     plt.imshow(img_np, cmap = \"gray\")\n",
    "#     plt.subplot(122)\n",
    "#     plt.imshow(msk_np, cmap = \"gray\")\n",
    "#     plt.show()\n",
    "#     break"
   ]
  },
  {
   "cell_type": "markdown",
   "metadata": {},
   "source": [
    "### Train"
   ]
  },
  {
   "cell_type": "code",
   "execution_count": 11,
   "metadata": {},
   "outputs": [],
   "source": [
    "model = UNetPP(in_channels = 3, out_channels = 1).to(device)\n",
    "\n",
    "n_epochs = 3\n",
    "criterion = nn.BCEWithLogitsLoss()\n",
    "optimizer = optim.Adam(model.parameters(), lr = 1e-6)"
   ]
  },
  {
   "cell_type": "code",
   "execution_count": 12,
   "metadata": {},
   "outputs": [
    {
     "name": "stderr",
     "output_type": "stream",
     "text": [
      "Train - Epoch 1:   0%|          | 0/9 [00:00<?, ?it/s]\n"
     ]
    },
    {
     "ename": "IndexError",
     "evalue": "list index out of range",
     "output_type": "error",
     "traceback": [
      "\u001b[0;31m---------------------------------------------------------------------------\u001b[0m",
      "\u001b[0;31mIndexError\u001b[0m                                Traceback (most recent call last)",
      "Cell \u001b[0;32mIn[12], line 8\u001b[0m\n\u001b[1;32m      5\u001b[0m model\u001b[38;5;241m.\u001b[39mtrain()\n\u001b[1;32m      6\u001b[0m train_loss \u001b[38;5;241m=\u001b[39m \u001b[38;5;241m0\u001b[39m\n\u001b[0;32m----> 8\u001b[0m \u001b[38;5;28;01mfor\u001b[39;00m image, mask \u001b[38;5;129;01min\u001b[39;00m tqdm(train_loader, desc \u001b[38;5;241m=\u001b[39m \u001b[38;5;124mf\u001b[39m\u001b[38;5;124m\"\u001b[39m\u001b[38;5;124mTrain - Epoch \u001b[39m\u001b[38;5;132;01m{\u001b[39;00mepoch\u001b[38;5;250m \u001b[39m\u001b[38;5;241m+\u001b[39m\u001b[38;5;250m \u001b[39m\u001b[38;5;241m1\u001b[39m\u001b[38;5;132;01m}\u001b[39;00m\u001b[38;5;124m\"\u001b[39m) :\n\u001b[1;32m      9\u001b[0m         image \u001b[38;5;241m=\u001b[39m image\u001b[38;5;241m.\u001b[39mto(device)\n\u001b[1;32m     10\u001b[0m         mask \u001b[38;5;241m=\u001b[39m mask\u001b[38;5;241m.\u001b[39mto(device)\n",
      "File \u001b[0;32m~/miniconda3/envs/eiden/lib/python3.10/site-packages/tqdm/std.py:1181\u001b[0m, in \u001b[0;36mtqdm.__iter__\u001b[0;34m(self)\u001b[0m\n\u001b[1;32m   1178\u001b[0m time \u001b[38;5;241m=\u001b[39m \u001b[38;5;28mself\u001b[39m\u001b[38;5;241m.\u001b[39m_time\n\u001b[1;32m   1180\u001b[0m \u001b[38;5;28;01mtry\u001b[39;00m:\n\u001b[0;32m-> 1181\u001b[0m     \u001b[38;5;28;01mfor\u001b[39;00m obj \u001b[38;5;129;01min\u001b[39;00m iterable:\n\u001b[1;32m   1182\u001b[0m         \u001b[38;5;28;01myield\u001b[39;00m obj\n\u001b[1;32m   1183\u001b[0m         \u001b[38;5;66;03m# Update and possibly print the progressbar.\u001b[39;00m\n\u001b[1;32m   1184\u001b[0m         \u001b[38;5;66;03m# Note: does not call self.update(1) for speed optimisation.\u001b[39;00m\n",
      "File \u001b[0;32m~/miniconda3/envs/eiden/lib/python3.10/site-packages/torch/utils/data/dataloader.py:708\u001b[0m, in \u001b[0;36m_BaseDataLoaderIter.__next__\u001b[0;34m(self)\u001b[0m\n\u001b[1;32m    705\u001b[0m \u001b[38;5;28;01mif\u001b[39;00m \u001b[38;5;28mself\u001b[39m\u001b[38;5;241m.\u001b[39m_sampler_iter \u001b[38;5;129;01mis\u001b[39;00m \u001b[38;5;28;01mNone\u001b[39;00m:\n\u001b[1;32m    706\u001b[0m     \u001b[38;5;66;03m# TODO(https://github.com/pytorch/pytorch/issues/76750)\u001b[39;00m\n\u001b[1;32m    707\u001b[0m     \u001b[38;5;28mself\u001b[39m\u001b[38;5;241m.\u001b[39m_reset()  \u001b[38;5;66;03m# type: ignore[call-arg]\u001b[39;00m\n\u001b[0;32m--> 708\u001b[0m data \u001b[38;5;241m=\u001b[39m \u001b[38;5;28;43mself\u001b[39;49m\u001b[38;5;241;43m.\u001b[39;49m\u001b[43m_next_data\u001b[49m\u001b[43m(\u001b[49m\u001b[43m)\u001b[49m\n\u001b[1;32m    709\u001b[0m \u001b[38;5;28mself\u001b[39m\u001b[38;5;241m.\u001b[39m_num_yielded \u001b[38;5;241m+\u001b[39m\u001b[38;5;241m=\u001b[39m \u001b[38;5;241m1\u001b[39m\n\u001b[1;32m    710\u001b[0m \u001b[38;5;28;01mif\u001b[39;00m (\n\u001b[1;32m    711\u001b[0m     \u001b[38;5;28mself\u001b[39m\u001b[38;5;241m.\u001b[39m_dataset_kind \u001b[38;5;241m==\u001b[39m _DatasetKind\u001b[38;5;241m.\u001b[39mIterable\n\u001b[1;32m    712\u001b[0m     \u001b[38;5;129;01mand\u001b[39;00m \u001b[38;5;28mself\u001b[39m\u001b[38;5;241m.\u001b[39m_IterableDataset_len_called \u001b[38;5;129;01mis\u001b[39;00m \u001b[38;5;129;01mnot\u001b[39;00m \u001b[38;5;28;01mNone\u001b[39;00m\n\u001b[1;32m    713\u001b[0m     \u001b[38;5;129;01mand\u001b[39;00m \u001b[38;5;28mself\u001b[39m\u001b[38;5;241m.\u001b[39m_num_yielded \u001b[38;5;241m>\u001b[39m \u001b[38;5;28mself\u001b[39m\u001b[38;5;241m.\u001b[39m_IterableDataset_len_called\n\u001b[1;32m    714\u001b[0m ):\n",
      "File \u001b[0;32m~/miniconda3/envs/eiden/lib/python3.10/site-packages/torch/utils/data/dataloader.py:764\u001b[0m, in \u001b[0;36m_SingleProcessDataLoaderIter._next_data\u001b[0;34m(self)\u001b[0m\n\u001b[1;32m    762\u001b[0m \u001b[38;5;28;01mdef\u001b[39;00m\u001b[38;5;250m \u001b[39m\u001b[38;5;21m_next_data\u001b[39m(\u001b[38;5;28mself\u001b[39m):\n\u001b[1;32m    763\u001b[0m     index \u001b[38;5;241m=\u001b[39m \u001b[38;5;28mself\u001b[39m\u001b[38;5;241m.\u001b[39m_next_index()  \u001b[38;5;66;03m# may raise StopIteration\u001b[39;00m\n\u001b[0;32m--> 764\u001b[0m     data \u001b[38;5;241m=\u001b[39m \u001b[38;5;28;43mself\u001b[39;49m\u001b[38;5;241;43m.\u001b[39;49m\u001b[43m_dataset_fetcher\u001b[49m\u001b[38;5;241;43m.\u001b[39;49m\u001b[43mfetch\u001b[49m\u001b[43m(\u001b[49m\u001b[43mindex\u001b[49m\u001b[43m)\u001b[49m  \u001b[38;5;66;03m# may raise StopIteration\u001b[39;00m\n\u001b[1;32m    765\u001b[0m     \u001b[38;5;28;01mif\u001b[39;00m \u001b[38;5;28mself\u001b[39m\u001b[38;5;241m.\u001b[39m_pin_memory:\n\u001b[1;32m    766\u001b[0m         data \u001b[38;5;241m=\u001b[39m _utils\u001b[38;5;241m.\u001b[39mpin_memory\u001b[38;5;241m.\u001b[39mpin_memory(data, \u001b[38;5;28mself\u001b[39m\u001b[38;5;241m.\u001b[39m_pin_memory_device)\n",
      "File \u001b[0;32m~/miniconda3/envs/eiden/lib/python3.10/site-packages/torch/utils/data/_utils/fetch.py:50\u001b[0m, in \u001b[0;36m_MapDatasetFetcher.fetch\u001b[0;34m(self, possibly_batched_index)\u001b[0m\n\u001b[1;32m     48\u001b[0m \u001b[38;5;28;01mif\u001b[39;00m \u001b[38;5;28mself\u001b[39m\u001b[38;5;241m.\u001b[39mauto_collation:\n\u001b[1;32m     49\u001b[0m     \u001b[38;5;28;01mif\u001b[39;00m \u001b[38;5;28mhasattr\u001b[39m(\u001b[38;5;28mself\u001b[39m\u001b[38;5;241m.\u001b[39mdataset, \u001b[38;5;124m\"\u001b[39m\u001b[38;5;124m__getitems__\u001b[39m\u001b[38;5;124m\"\u001b[39m) \u001b[38;5;129;01mand\u001b[39;00m \u001b[38;5;28mself\u001b[39m\u001b[38;5;241m.\u001b[39mdataset\u001b[38;5;241m.\u001b[39m__getitems__:\n\u001b[0;32m---> 50\u001b[0m         data \u001b[38;5;241m=\u001b[39m \u001b[38;5;28;43mself\u001b[39;49m\u001b[38;5;241;43m.\u001b[39;49m\u001b[43mdataset\u001b[49m\u001b[38;5;241;43m.\u001b[39;49m\u001b[43m__getitems__\u001b[49m\u001b[43m(\u001b[49m\u001b[43mpossibly_batched_index\u001b[49m\u001b[43m)\u001b[49m\n\u001b[1;32m     51\u001b[0m     \u001b[38;5;28;01melse\u001b[39;00m:\n\u001b[1;32m     52\u001b[0m         data \u001b[38;5;241m=\u001b[39m [\u001b[38;5;28mself\u001b[39m\u001b[38;5;241m.\u001b[39mdataset[idx] \u001b[38;5;28;01mfor\u001b[39;00m idx \u001b[38;5;129;01min\u001b[39;00m possibly_batched_index]\n",
      "File \u001b[0;32m~/miniconda3/envs/eiden/lib/python3.10/site-packages/torch/utils/data/dataset.py:420\u001b[0m, in \u001b[0;36mSubset.__getitems__\u001b[0;34m(self, indices)\u001b[0m\n\u001b[1;32m    418\u001b[0m     \u001b[38;5;28;01mreturn\u001b[39;00m \u001b[38;5;28mself\u001b[39m\u001b[38;5;241m.\u001b[39mdataset\u001b[38;5;241m.\u001b[39m__getitems__([\u001b[38;5;28mself\u001b[39m\u001b[38;5;241m.\u001b[39mindices[idx] \u001b[38;5;28;01mfor\u001b[39;00m idx \u001b[38;5;129;01min\u001b[39;00m indices])  \u001b[38;5;66;03m# type: ignore[attr-defined]\u001b[39;00m\n\u001b[1;32m    419\u001b[0m \u001b[38;5;28;01melse\u001b[39;00m:\n\u001b[0;32m--> 420\u001b[0m     \u001b[38;5;28;01mreturn\u001b[39;00m [\u001b[38;5;28mself\u001b[39m\u001b[38;5;241m.\u001b[39mdataset[\u001b[38;5;28mself\u001b[39m\u001b[38;5;241m.\u001b[39mindices[idx]] \u001b[38;5;28;01mfor\u001b[39;00m idx \u001b[38;5;129;01min\u001b[39;00m indices]\n",
      "File \u001b[0;32m~/miniconda3/envs/eiden/lib/python3.10/site-packages/torch/utils/data/dataset.py:420\u001b[0m, in \u001b[0;36m<listcomp>\u001b[0;34m(.0)\u001b[0m\n\u001b[1;32m    418\u001b[0m     \u001b[38;5;28;01mreturn\u001b[39;00m \u001b[38;5;28mself\u001b[39m\u001b[38;5;241m.\u001b[39mdataset\u001b[38;5;241m.\u001b[39m__getitems__([\u001b[38;5;28mself\u001b[39m\u001b[38;5;241m.\u001b[39mindices[idx] \u001b[38;5;28;01mfor\u001b[39;00m idx \u001b[38;5;129;01min\u001b[39;00m indices])  \u001b[38;5;66;03m# type: ignore[attr-defined]\u001b[39;00m\n\u001b[1;32m    419\u001b[0m \u001b[38;5;28;01melse\u001b[39;00m:\n\u001b[0;32m--> 420\u001b[0m     \u001b[38;5;28;01mreturn\u001b[39;00m [\u001b[38;5;28;43mself\u001b[39;49m\u001b[38;5;241;43m.\u001b[39;49m\u001b[43mdataset\u001b[49m\u001b[43m[\u001b[49m\u001b[38;5;28;43mself\u001b[39;49m\u001b[38;5;241;43m.\u001b[39;49m\u001b[43mindices\u001b[49m\u001b[43m[\u001b[49m\u001b[43midx\u001b[49m\u001b[43m]\u001b[49m\u001b[43m]\u001b[49m \u001b[38;5;28;01mfor\u001b[39;00m idx \u001b[38;5;129;01min\u001b[39;00m indices]\n",
      "Cell \u001b[0;32mIn[3], line 11\u001b[0m, in \u001b[0;36mCAGDataset.__getitem__\u001b[0;34m(self, index)\u001b[0m\n\u001b[1;32m     10\u001b[0m \u001b[38;5;28;01mdef\u001b[39;00m\u001b[38;5;250m \u001b[39m\u001b[38;5;21m__getitem__\u001b[39m(\u001b[38;5;28mself\u001b[39m, index) :\n\u001b[0;32m---> 11\u001b[0m     img \u001b[38;5;241m=\u001b[39m Image\u001b[38;5;241m.\u001b[39mopen(\u001b[38;5;28;43mself\u001b[39;49m\u001b[38;5;241;43m.\u001b[39;49m\u001b[43mimg_path\u001b[49m\u001b[43m[\u001b[49m\u001b[43mindex\u001b[49m\u001b[43m]\u001b[49m)\u001b[38;5;241m.\u001b[39mconvert(\u001b[38;5;124m'\u001b[39m\u001b[38;5;124mRGB\u001b[39m\u001b[38;5;124m'\u001b[39m)\n\u001b[1;32m     12\u001b[0m     mask \u001b[38;5;241m=\u001b[39m Image\u001b[38;5;241m.\u001b[39mopen(\u001b[38;5;28mself\u001b[39m\u001b[38;5;241m.\u001b[39mmask_path[index])\u001b[38;5;241m.\u001b[39mconvert(\u001b[38;5;124m'\u001b[39m\u001b[38;5;124mL\u001b[39m\u001b[38;5;124m'\u001b[39m)\n\u001b[1;32m     14\u001b[0m     \u001b[38;5;28;01mif\u001b[39;00m \u001b[38;5;28mself\u001b[39m\u001b[38;5;241m.\u001b[39mtransform :\n",
      "\u001b[0;31mIndexError\u001b[0m: list index out of range"
     ]
    }
   ],
   "source": [
    "train_list = []\n",
    "valid_list = []\n",
    "\n",
    "for epoch in range(n_epochs) :\n",
    "        model.train()\n",
    "        train_loss = 0\n",
    "\n",
    "        for image, mask in tqdm(train_loader, desc = f\"Train - Epoch {epoch + 1}\") :\n",
    "                image = image.to(device)\n",
    "                mask = mask.to(device)\n",
    "                \n",
    "                output = model(image)\n",
    "                loss = criterion(output, mask)\n",
    "                optimizer.zero_grad()\n",
    "                loss.backward()\n",
    "                optimizer.step()\n",
    "                \n",
    "                train_loss += loss.item() * image.size(0)\n",
    "        \n",
    "        train_loss /= len(train_loader.dataset)\n",
    "        train_list.append(train_loss)\n",
    "\n",
    "        model.eval()\n",
    "        valid_loss = 0\n",
    "        with torch.no_grad() :\n",
    "                for image, mask in tqdm(valid_loader, desc = f\"Valid - Epoch {epoch + 1}\") :\n",
    "                        image = image.to(device)\n",
    "                        mask = mask.to(device)\n",
    "                        \n",
    "                        output = model(image)\n",
    "                        loss = criterion(output, mask)\n",
    "                        \n",
    "                        valid_loss += loss.item() * image.size(0)\n",
    "        \n",
    "        valid_loss /= len(valid_loader.dataset)\n",
    "        valid_list.append(valid_loss)\n",
    "        \n",
    "        print(f'Epoch {epoch + 1} : train_loss = {train_loss:.4f}, val_loss = {valid_loss:.4f}')  "
   ]
  },
  {
   "cell_type": "code",
   "execution_count": null,
   "metadata": {},
   "outputs": [],
   "source": [
    "plt.figure(figsize = (12, 6))\n",
    "\n",
    "width = range(1, n_epochs + 1)\n",
    "plt.plot(width, train_list, label = \"Train Loss\")\n",
    "plt.plot(width, valid_list, label = \"Valid Loss\")\n",
    "plt.xlabel(\"Epochs\")\n",
    "plt.ylabel(\"Loss\")\n",
    "plt.title(\"Loss\")\n",
    "plt.legend()\n",
    "plt.grid(True)\n",
    "plt.tight_layout()\n",
    "plt.show()"
   ]
  },
  {
   "cell_type": "markdown",
   "metadata": {},
   "source": [
    "### Test"
   ]
  },
  {
   "cell_type": "code",
   "execution_count": 19,
   "metadata": {},
   "outputs": [],
   "source": [
    "def compute_metrics(preds, masks, smooth = 1e-6) :\n",
    "    preds_flat = preds.view(preds.size(0), -1)\n",
    "    masks_flat = masks.view(masks.size(0), -1)\n",
    "    intersection = (preds_flat * masks_flat).sum(1)\n",
    "    union = preds_flat.sum(1) + masks_flat.sum(1) - intersection\n",
    "    iou = (intersection + smooth) / (union + smooth)\n",
    "    jaccard_distance = 1 - iou\n",
    "    dice = (2 * intersection + smooth) / (preds_flat.sum(1) + masks_flat.sum(1) + smooth)\n",
    "    return iou.mean().item(), jaccard_distance.mean().item(), dice.mean().item()"
   ]
  },
  {
   "cell_type": "code",
   "execution_count": null,
   "metadata": {},
   "outputs": [],
   "source": [
    "model.eval()\n",
    "Dice_scores = []\n",
    "IoU_scores = []\n",
    "Jaccard_distances = []\n",
    "\n",
    "last_image = None\n",
    "last_pred = None\n",
    "last_mask = None\n",
    "\n",
    "with torch.no_grad() :\n",
    "    for image, mask in tqdm(test_loader, desc = \"Test\") :\n",
    "        image = image.to(device)\n",
    "        mask = mask.to(device)\n",
    "        \n",
    "        output = torch.sigmoid(model(image))\n",
    "        pred = (output > 0.5).float()\n",
    "        \n",
    "        iou, jdist, dice = compute_metrics(pred, mask)\n",
    "        IoU_scores.append(iou)\n",
    "        Jaccard_distances.append(jdist)\n",
    "        Dice_scores.append(dice)\n",
    "        \n",
    "        last_image = image[-1].cpu()\n",
    "        last_pred = pred[-1].cpu()\n",
    "        last_mask = mask[-1].cpu()\n",
    "        "
   ]
  },
  {
   "cell_type": "markdown",
   "metadata": {},
   "source": [
    "### Visualize"
   ]
  },
  {
   "cell_type": "code",
   "execution_count": null,
   "metadata": {},
   "outputs": [],
   "source": [
    "print(f\"last_image : {last_image.shape}\")\n",
    "print(f\"last_mask : {last_mask.shape}\")\n",
    "print(f\"last_pred : {last_pred.shape}\")"
   ]
  },
  {
   "cell_type": "code",
   "execution_count": null,
   "metadata": {},
   "outputs": [],
   "source": [
    "plt.figure(figsize=(12, 6))\n",
    "\n",
    "plt.subplot(131)\n",
    "plt.imshow(last_image.permute(1, 2, 0).numpy(), cmap = 'gray')\n",
    "plt.title(\"Input Image\")\n",
    "\n",
    "plt.subplot(132)\n",
    "plt.imshow(last_mask.squeeze().numpy(), cmap = 'gray')\n",
    "plt.title(\"Ground Truth Mask\")\n",
    "\n",
    "plt.subplot(133)\n",
    "plt.imshow(last_pred.squeeze().numpy(), cmap = 'gray')\n",
    "plt.title(\"Predicted Mask\")\n",
    "\n",
    "plt.tight_layout()\n",
    "plt.show()"
   ]
  },
  {
   "cell_type": "code",
   "execution_count": null,
   "metadata": {},
   "outputs": [],
   "source": [
    "plt.figure(figsize = (12, 6))\n",
    "plt.boxplot([Dice_scores, IoU_scores, Jaccard_distances],\n",
    "            labels=['Dice', 'IoU', 'Jaccard Distance'])\n",
    "\n",
    "plt.title('Metric')\n",
    "plt.ylabel('Score')\n",
    "plt.grid(True)\n",
    "plt.tight_layout()\n",
    "plt.show()"
   ]
  },
  {
   "cell_type": "code",
   "execution_count": null,
   "metadata": {},
   "outputs": [],
   "source": [
    "plt.figure(figsize=(12, 6))\n",
    "\n",
    "plt.subplot(131)\n",
    "plt.hist(Dice_scores, bins = 20, color = 'skyblue')\n",
    "plt.title('Dice Score Distribution')\n",
    "plt.xlabel('Dice Score')\n",
    "plt.ylabel('Frequency')\n",
    "\n",
    "plt.subplot(132)\n",
    "plt.hist(IoU_scores, bins = 20, color = 'lightgreen')\n",
    "plt.title('IoU Score Distribution')\n",
    "plt.xlabel('IoU Score')\n",
    "\n",
    "plt.subplot(133)\n",
    "plt.hist(Jaccard_distances, bins = 20, color = 'salmon')\n",
    "plt.title('Jaccard Distance Distribution')\n",
    "plt.xlabel('Jaccard Distance')\n",
    "\n",
    "plt.tight_layout()\n",
    "plt.show()\n"
   ]
  },
  {
   "cell_type": "code",
   "execution_count": null,
   "metadata": {},
   "outputs": [],
   "source": []
  }
 ],
 "metadata": {
  "kernelspec": {
   "display_name": "eiden",
   "language": "python",
   "name": "python3"
  },
  "language_info": {
   "codemirror_mode": {
    "name": "ipython",
    "version": 3
   },
   "file_extension": ".py",
   "mimetype": "text/x-python",
   "name": "python",
   "nbconvert_exporter": "python",
   "pygments_lexer": "ipython3",
   "version": "3.10.0"
  }
 },
 "nbformat": 4,
 "nbformat_minor": 4
}
