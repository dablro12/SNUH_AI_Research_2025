{
 "cells": [
  {
   "cell_type": "code",
   "execution_count": null,
   "metadata": {},
   "outputs": [],
   "source": [
    "from dotenv import load_dotenv\n",
    "import sys, os\n",
    "sys.path.append('../')\n",
    "from utilities.seed import seed_everything\n",
    "seed_everything()\n",
    "load_dotenv('../.env')"
   ]
  },
  {
   "cell_type": "markdown",
   "metadata": {},
   "source": [
    "## Experiment Settings"
   ]
  },
  {
   "cell_type": "code",
   "execution_count": null,
   "metadata": {},
   "outputs": [],
   "source": [
    "import pandas as pd \n",
    "from sklearn.model_selection import train_test_split\n",
    "from sklearn.model_selection import KFold\n",
    "\n",
    "tuning_df = pd.read_csv(os.getenv('TUNING_CSV'))\n",
    "\n",
    "kf = KFold(n_splits=5, shuffle=True, random_state=42)\n",
    "folds = [\n",
    "    (tuning_df.iloc[train_idx].reset_index(drop=True), tuning_df.iloc[val_idx].reset_index(drop=True))\n",
    "    for train_idx, val_idx in kf.split(tuning_df)\n",
    "]\n",
    "\n",
    "# Fold 1개만 적용 \n",
    "train_df, valid_df = folds[0]\n",
    "train_df"
   ]
  },
  {
   "cell_type": "markdown",
   "metadata": {},
   "source": [
    "## Dataset Setting"
   ]
  },
  {
   "cell_type": "code",
   "execution_count": null,
   "metadata": {},
   "outputs": [],
   "source": [
    "from torch.utils.data import DataLoader\n",
    "from utilities.datasets import CAG_Dataset\n",
    "from Args import Args_Train_Loader, Args_Valid_Loader\n",
    "\n",
    "Train_Dataset = CAG_Dataset(\n",
    "    df=train_df,\n",
    "    image_dir=os.getenv('IMAGE_DIR'),\n",
    "    mask_dir=os.getenv('MASK_DIR'),\n",
    "    default_transform = Args_Train_Loader._get_default_transform(),\n",
    "    aug_transform = Args_Train_Loader._get_aug_transform()\n",
    ")\n",
    "Valid_Dataset = CAG_Dataset(\n",
    "    df=valid_df,\n",
    "    image_dir=os.getenv('IMAGE_DIR'),\n",
    "    mask_dir=os.getenv('MASK_DIR'),\n",
    "    default_transform = Args_Valid_Loader._get_default_transform(),\n",
    "    # Prompt_Args = {\n",
    "    #     \"n_shot\" : 3\n",
    "    # }\n",
    ")\n",
    "\n",
    "Train_Loader = DataLoader(\n",
    "    Train_Dataset,\n",
    "    batch_size=Args_Train_Loader.train_bs,\n",
    "    shuffle=Args_Train_Loader.shuffle,\n",
    "    num_workers=Args_Train_Loader.num_workers,\n",
    "    pin_memory=Args_Train_Loader.pin_memory,\n",
    "    drop_last=Args_Train_Loader.drop_last,\n",
    "\n",
    ")\n",
    "Valid_Loader = DataLoader(\n",
    "    Valid_Dataset,\n",
    "    batch_size=Args_Valid_Loader.valid_bs,\n",
    "    shuffle=Args_Valid_Loader.shuffle,\n",
    "    num_workers=Args_Valid_Loader.num_workers,\n",
    "    pin_memory=Args_Valid_Loader.pin_memory,\n",
    "    drop_last=Args_Valid_Loader.drop_last,\n",
    ")\n",
    "\n",
    "sample_imgs, sample_masks = next(iter(Train_Loader))\n",
    "print(sample_imgs.shape, sample_masks.shape)\n",
    "print(sample_masks.unique())\n",
    "# sample_imgs, sample_masks 에 하나만 시각화\n",
    "import matplotlib.pyplot as plt\n",
    "plt.figure(figsize=(10, 5))\n",
    "plt.subplot(1, 2, 1)\n",
    "plt.imshow(sample_imgs[0].squeeze().cpu().numpy(), cmap = 'gray')\n",
    "plt.title('Image')\n",
    "plt.subplot(1, 2, 2)\n",
    "plt.imshow(sample_masks[0].squeeze().cpu().numpy(), cmap = 'gray')\n",
    "plt.title('Mask')\n",
    "plt.show()\n",
    "\n"
   ]
  },
  {
   "cell_type": "markdown",
   "metadata": {},
   "source": [
    "# Model Setting"
   ]
  },
  {
   "cell_type": "code",
   "execution_count": null,
   "metadata": {},
   "outputs": [],
   "source": [
    "from Args import Args_experiments\n",
    "import torch.nn as nn\n",
    "from torchinfo import summary\n",
    "\n",
    "from models.deepsa import UNet\n",
    "from models.deepsa import build_model as build_model_deepsa\n",
    "from models.unet_plus_plus import build_model as build_model_unetpp\n",
    "from models.unetresnet50_dino import build_model as build_model_unetresnet50_dino\n",
    "# from models.unet_swin import build_model as build_model_unetswin\n",
    "\n",
    "exp_name = \"unetresnet50-ft-v2\"\n",
    "\n",
    "# seg_model = UNet(1, 1, 32, bilinear=True).to(Args_experiments.device)\n",
    "# seg_model = build_model(ckpt_path = os.getenv('deepsa_ckpt_path'), device = Args_experiments.device).to(Args_experiments.device)\n",
    "# seg_model = build_model_unetpp(device = Args_experiments.device).to(Args_experiments.device)\n",
    "seg_model = build_model_unetresnet50_dino(device = Args_experiments.device).to(Args_experiments.device) \n",
    "# seg_model = build_model_unetswin(device = Args_experiments.device).to(Args_experiments.device) # [FIX]\n",
    "\n",
    "\n",
    "seg_model = nn.DataParallel(seg_model, device_ids=Args_experiments.device_ids)\n"
   ]
  },
  {
   "cell_type": "markdown",
   "metadata": {},
   "source": [
    "## Training Setting"
   ]
  },
  {
   "cell_type": "code",
   "execution_count": 5,
   "metadata": {},
   "outputs": [],
   "source": [
    "\n",
    "optimizer = Args_experiments.optimizer_fn(seg_model.parameters())\n",
    "scheduler = Args_experiments.scheduler_fn(optimizer)\n",
    "loss_fn = Args_experiments.loss_fn()"
   ]
  },
  {
   "cell_type": "code",
   "execution_count": null,
   "metadata": {},
   "outputs": [],
   "source": [
    "import torch\n",
    "from tqdm import tqdm\n",
    "import os\n",
    "from utilities.metrics import SegmentationMetrics\n",
    "\n",
    "metrics = SegmentationMetrics()\n",
    "\n",
    "def set_lr(optimizer, lr):\n",
    "    for param_group in optimizer.param_groups:\n",
    "        param_group['lr'] = lr\n",
    "\n",
    "def get_lr(optimizer):\n",
    "    return optimizer.param_groups[0]['lr']\n",
    "\n",
    "def train_one_epoch(model, loader, optimizer, loss_fn, device):\n",
    "    model.train()\n",
    "    epoch_loss, metric_sum = 0, None\n",
    "    for imgs, masks in tqdm(loader, desc=\"Train\", leave=False):\n",
    "        imgs, masks = imgs.to(device), masks.to(device)\n",
    "        optimizer.zero_grad()\n",
    "        outputs = model(imgs)\n",
    "        loss = loss_fn(outputs, masks)\n",
    "        loss.backward()\n",
    "        torch.nn.utils.clip_grad_norm_(model.parameters(), max_norm=5.0)\n",
    "        optimizer.step()\n",
    "        epoch_loss += loss.item() * imgs.size(0)\n",
    "        batch_metrics = metrics.evaluate(torch.sigmoid(outputs), masks)\n",
    "        if metric_sum is None:\n",
    "            metric_sum = {k: v * imgs.size(0) for k, v in batch_metrics.items()}\n",
    "        else:\n",
    "            for k in metric_sum:\n",
    "                metric_sum[k] += batch_metrics[k] * imgs.size(0)\n",
    "    n = len(loader.dataset)\n",
    "    avg_metrics = {k: v / n for k, v in metric_sum.items()}\n",
    "    return epoch_loss / n, avg_metrics\n",
    "\n",
    "@torch.no_grad()\n",
    "def valid_one_epoch(model, loader, loss_fn, device):\n",
    "    model.eval()\n",
    "    epoch_loss, metric_sum = 0, None\n",
    "    for imgs, masks in tqdm(loader, desc=\"Valid\", leave=False):\n",
    "        imgs, masks = imgs.to(device), masks.to(device)\n",
    "        outputs = model(imgs)\n",
    "        loss = loss_fn(outputs, masks)\n",
    "        epoch_loss += loss.item() * imgs.size(0)\n",
    "        batch_metrics = metrics.evaluate(torch.sigmoid(outputs), masks)\n",
    "        if metric_sum is None:\n",
    "            metric_sum = {k: v * imgs.size(0) for k, v in batch_metrics.items()}\n",
    "        else:\n",
    "            for k in metric_sum:\n",
    "                metric_sum[k] += batch_metrics[k] * imgs.size(0)\n",
    "    n = len(loader.dataset)\n",
    "    avg_metrics = {k: v / n for k, v in metric_sum.items()}\n",
    "    return epoch_loss / n, avg_metrics\n",
    "\n",
    "def run_training(\n",
    "    model, optimizer, scheduler, loss_fn, \n",
    "    train_loader, valid_loader, device, \n",
    "    num_epochs, patience, exp_name\n",
    "):\n",
    "    best_dice = 0\n",
    "    best_valid_loss = float('inf')\n",
    "    patience_counter = 0\n",
    "    save_dir = os.path.join(os.getenv(\"EXPERIMENT_DIR\", \"./EXPERIMENT_DIR\"), exp_name)\n",
    "    os.makedirs(save_dir, exist_ok=True)\n",
    "    best_weight_dice_path = os.path.join(save_dir, \"best_weight.pth\")\n",
    "    warmup_epoch = getattr(Args_experiments, \"warmup_epoch\", 0)\n",
    "    base_lr = Args_experiments.lr\n",
    "    for epoch in range(1, num_epochs+1):\n",
    "        print(f\"Epoch {epoch}/{num_epochs}\")\n",
    "        if warmup_epoch > 0 and epoch <= warmup_epoch:\n",
    "            warmup_lr = base_lr * epoch / warmup_epoch\n",
    "            set_lr(optimizer, warmup_lr)\n",
    "            print(f\"Warmup lr: {get_lr(optimizer):.6f}\")\n",
    "        elif warmup_epoch > 0 and epoch == warmup_epoch + 1:\n",
    "            set_lr(optimizer, base_lr)\n",
    "            print(f\"Set lr to base: {get_lr(optimizer):.6f}\")\n",
    "        train_loss, train_metrics = train_one_epoch(model, train_loader, optimizer, loss_fn, device)\n",
    "        valid_loss, valid_metrics = valid_one_epoch(model, valid_loader, loss_fn, device)\n",
    "        scheduler.step()\n",
    "        # dice 기준 best\n",
    "        if valid_metrics[\"dice_coef\"] > best_dice:\n",
    "            best_dice = valid_metrics[\"dice_coef\"]\n",
    "            patience_counter = 0\n",
    "            torch.save(model.state_dict(), best_weight_dice_path)\n",
    "            print(f\"[Best Dice] Train Loss: {train_loss:.4f} | \" + \" | \".join([f'{k}: {v:.4f}' for k, v in train_metrics.items()]))\n",
    "            print(f\"[Best Dice] Valid Loss: {valid_loss:.4f} | \" + \" | \".join([f'{k}: {v:.4f}' for k, v in valid_metrics.items()]))\n",
    "            print(f\"Best Dice model saved at {best_weight_dice_path} (Dice: {best_dice:.4f})\")\n",
    "        else:\n",
    "            patience_counter += 1\n",
    "            print(f\"Patience: {patience_counter}/{patience}\")\n",
    "            if patience_counter >= patience:\n",
    "                print(\"Early stopping triggered.\")\n",
    "                break\n",
    "        # loss 기준 best\n",
    "        if valid_loss < best_valid_loss:\n",
    "            best_valid_loss = valid_loss\n",
    "\n",
    "num_epochs = Args_experiments.epoch\n",
    "patience = Args_experiments.patience\n",
    "\n",
    "run_training(\n",
    "    seg_model, optimizer, scheduler, loss_fn,\n",
    "    Train_Loader, Valid_Loader, Args_experiments.device,\n",
    "    num_epochs, patience, exp_name\n",
    ")"
   ]
  },
  {
   "cell_type": "markdown",
   "metadata": {},
   "source": [
    "## Model Series"
   ]
  },
  {
   "cell_type": "markdown",
   "metadata": {},
   "source": [
    "### MedSegDiff"
   ]
  },
  {
   "cell_type": "code",
   "execution_count": 1,
   "metadata": {},
   "outputs": [
    {
     "name": "stdout",
     "output_type": "stream",
     "text": [
      "2\n"
     ]
    },
    {
     "name": "stderr",
     "output_type": "stream",
     "text": [
      "/home/medisc/eiden/SNUH_AI_Research_2025/source/tutorials/../utilities/losses/label_smooth.py:63: FutureWarning: `torch.cuda.amp.custom_fwd(args...)` is deprecated. Please use `torch.amp.custom_fwd(args..., device_type='cuda')` instead.\n",
      "  @amp.custom_fwd(cast_inputs=torch.float32)\n",
      "/home/medisc/eiden/SNUH_AI_Research_2025/source/tutorials/../utilities/losses/label_smooth.py:89: FutureWarning: `torch.cuda.amp.custom_bwd(args...)` is deprecated. Please use `torch.amp.custom_bwd(args..., device_type='cuda')` instead.\n",
      "  def backward(ctx, grad_output):\n",
      "/home/medisc/eiden/SNUH_AI_Research_2025/source/tutorials/../utilities/losses/label_smooth.py:131: FutureWarning: `torch.cuda.amp.custom_fwd(args...)` is deprecated. Please use `torch.amp.custom_fwd(args..., device_type='cuda')` instead.\n",
      "  @amp.custom_fwd(cast_inputs=torch.float32)\n",
      "/home/medisc/eiden/SNUH_AI_Research_2025/source/tutorials/../utilities/losses/label_smooth.py:140: FutureWarning: `torch.cuda.amp.custom_bwd(args...)` is deprecated. Please use `torch.amp.custom_bwd(args..., device_type='cuda')` instead.\n",
      "  def backward(ctx, grad_output):\n",
      "/home/medisc/miniconda3/envs/eiden/lib/python3.10/site-packages/torch/nn/parallel/data_parallel.py:37: UserWarning: \n",
      "    There is an imbalance between your GPUs. You may want to exclude GPU 1 which\n",
      "    has less than 75% of the memory or cores of GPU 0. You can do so by setting\n",
      "    the device_ids argument to DataParallel, or by setting the CUDA_VISIBLE_DEVICES\n",
      "    environment variable.\n",
      "  warnings.warn(\n"
     ]
    },
    {
     "data": {
      "application/vnd.jupyter.widget-view+json": {
       "model_id": "979d8b9e17c44580ae48dba74ce0a273",
       "version_major": 2,
       "version_minor": 0
      },
      "text/plain": [
       "sampling loop time step:   0%|          | 0/1000 [00:00<?, ?it/s]"
      ]
     },
     "metadata": {},
     "output_type": "display_data"
    },
    {
     "data": {
      "text/plain": [
       "torch.Size([8, 1, 224, 224])"
      ]
     },
     "execution_count": 1,
     "metadata": {},
     "output_type": "execute_result"
    }
   ],
   "source": [
    "import os\n",
    "os.environ[\"CUDA_VISIBLE_DEVICES\"] = \"0,1\"\n",
    "import torch\n",
    "print(torch.cuda.device_count()) \n",
    "\n",
    "import sys\n",
    "sys.path.append('../')\n",
    "from models.med_seg_diff import build_model as build_model_med_seg_diff\n",
    "from Args import Args_experiments\n",
    "seg_model = build_model_med_seg_diff(device = Args_experiments.device)\n",
    "import torch\n",
    "segmented_imgs = torch.rand(8, 1, 224, 224)  # inputs are normalized from 0 to 1\n",
    "input_imgs = torch.rand(8, 1, 224, 224)\n",
    "\n",
    "loss = seg_model(segmented_imgs, input_imgs)\n",
    "loss.backward()\n",
    "\n",
    "# after a lot of training\n",
    "pred = seg_model.sample(input_imgs)     # pass in your unsegmented images\n",
    "pred.shape                              # predicted segmented images - (8, 3, 128, 128)\n"
   ]
  }
 ],
 "metadata": {
  "kernelspec": {
   "display_name": "eiden",
   "language": "python",
   "name": "python3"
  },
  "language_info": {
   "codemirror_mode": {
    "name": "ipython",
    "version": 3
   },
   "file_extension": ".py",
   "mimetype": "text/x-python",
   "name": "python",
   "nbconvert_exporter": "python",
   "pygments_lexer": "ipython3",
   "version": "3.10.0"
  }
 },
 "nbformat": 4,
 "nbformat_minor": 2
}
