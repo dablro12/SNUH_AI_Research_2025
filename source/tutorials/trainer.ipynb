{
 "cells": [
  {
   "cell_type": "code",
   "execution_count": 1,
   "metadata": {},
   "outputs": [
    {
     "data": {
      "text/plain": [
       "True"
      ]
     },
     "execution_count": 1,
     "metadata": {},
     "output_type": "execute_result"
    }
   ],
   "source": [
    "from dotenv import load_dotenv\n",
    "import sys, os\n",
    "sys.path.append('../')\n",
    "from utilities.seed import seed_everything\n",
    "seed_everything()\n",
    "load_dotenv('../.env')"
   ]
  },
  {
   "cell_type": "markdown",
   "metadata": {},
   "source": [
    "## Experiment Settings"
   ]
  },
  {
   "cell_type": "code",
   "execution_count": 2,
   "metadata": {},
   "outputs": [
    {
     "data": {
      "text/html": [
       "<div>\n",
       "<style scoped>\n",
       "    .dataframe tbody tr th:only-of-type {\n",
       "        vertical-align: middle;\n",
       "    }\n",
       "\n",
       "    .dataframe tbody tr th {\n",
       "        vertical-align: top;\n",
       "    }\n",
       "\n",
       "    .dataframe thead th {\n",
       "        text-align: right;\n",
       "    }\n",
       "</style>\n",
       "<table border=\"1\" class=\"dataframe\">\n",
       "  <thead>\n",
       "    <tr style=\"text-align: right;\">\n",
       "      <th></th>\n",
       "      <th>image_filename</th>\n",
       "      <th>mask_save_path</th>\n",
       "    </tr>\n",
       "  </thead>\n",
       "  <tbody>\n",
       "    <tr>\n",
       "      <th>0</th>\n",
       "      <td>311.png</td>\n",
       "      <td>311.png</td>\n",
       "    </tr>\n",
       "    <tr>\n",
       "      <th>1</th>\n",
       "      <td>00086.png</td>\n",
       "      <td>00086.png</td>\n",
       "    </tr>\n",
       "    <tr>\n",
       "      <th>2</th>\n",
       "      <td>200.png</td>\n",
       "      <td>200.png</td>\n",
       "    </tr>\n",
       "    <tr>\n",
       "      <th>3</th>\n",
       "      <td>319.png</td>\n",
       "      <td>319.png</td>\n",
       "    </tr>\n",
       "    <tr>\n",
       "      <th>4</th>\n",
       "      <td>00136.png</td>\n",
       "      <td>00136.png</td>\n",
       "    </tr>\n",
       "    <tr>\n",
       "      <th>...</th>\n",
       "      <td>...</td>\n",
       "      <td>...</td>\n",
       "    </tr>\n",
       "    <tr>\n",
       "      <th>123</th>\n",
       "      <td>00155.png</td>\n",
       "      <td>00155.png</td>\n",
       "    </tr>\n",
       "    <tr>\n",
       "      <th>124</th>\n",
       "      <td>00091.png</td>\n",
       "      <td>00091.png</td>\n",
       "    </tr>\n",
       "    <tr>\n",
       "      <th>125</th>\n",
       "      <td>00114.png</td>\n",
       "      <td>00114.png</td>\n",
       "    </tr>\n",
       "    <tr>\n",
       "      <th>126</th>\n",
       "      <td>00197.png</td>\n",
       "      <td>00197.png</td>\n",
       "    </tr>\n",
       "    <tr>\n",
       "      <th>127</th>\n",
       "      <td>317.png</td>\n",
       "      <td>317.png</td>\n",
       "    </tr>\n",
       "  </tbody>\n",
       "</table>\n",
       "<p>128 rows × 2 columns</p>\n",
       "</div>"
      ],
      "text/plain": [
       "    image_filename mask_save_path\n",
       "0          311.png        311.png\n",
       "1        00086.png      00086.png\n",
       "2          200.png        200.png\n",
       "3          319.png        319.png\n",
       "4        00136.png      00136.png\n",
       "..             ...            ...\n",
       "123      00155.png      00155.png\n",
       "124      00091.png      00091.png\n",
       "125      00114.png      00114.png\n",
       "126      00197.png      00197.png\n",
       "127        317.png        317.png\n",
       "\n",
       "[128 rows x 2 columns]"
      ]
     },
     "execution_count": 2,
     "metadata": {},
     "output_type": "execute_result"
    }
   ],
   "source": [
    "import pandas as pd \n",
    "from sklearn.model_selection import train_test_split\n",
    "from sklearn.model_selection import KFold\n",
    "\n",
    "tuning_df = pd.read_csv(os.getenv('TUNING_CSV'))\n",
    "\n",
    "kf = KFold(n_splits=5, shuffle=True, random_state=42)\n",
    "folds = [\n",
    "    (tuning_df.iloc[train_idx].reset_index(drop=True), tuning_df.iloc[val_idx].reset_index(drop=True))\n",
    "    for train_idx, val_idx in kf.split(tuning_df)\n",
    "]\n",
    "\n",
    "# Fold 1개만 적용 \n",
    "train_df, valid_df = folds[0]\n",
    "train_df"
   ]
  },
  {
   "cell_type": "markdown",
   "metadata": {},
   "source": [
    "## Dataset Setting"
   ]
  },
  {
   "cell_type": "code",
   "execution_count": 3,
   "metadata": {},
   "outputs": [
    {
     "name": "stderr",
     "output_type": "stream",
     "text": [
      "/home/medisc/miniconda3/envs/eiden/lib/python3.10/site-packages/albumentations/__init__.py:28: UserWarning: A new version of Albumentations is available: '2.0.8' (you have '2.0.7'). Upgrade using: pip install -U albumentations. To disable automatic update checks, set the environment variable NO_ALBUMENTATIONS_UPDATE to 1.\n",
      "  check_for_updates()\n",
      "/home/medisc/eiden/SNUH_AI_Research_2025/source/tutorials/../utilities/losses/label_smooth.py:63: FutureWarning: `torch.cuda.amp.custom_fwd(args...)` is deprecated. Please use `torch.amp.custom_fwd(args..., device_type='cuda')` instead.\n",
      "  @amp.custom_fwd(cast_inputs=torch.float32)\n",
      "/home/medisc/eiden/SNUH_AI_Research_2025/source/tutorials/../utilities/losses/label_smooth.py:89: FutureWarning: `torch.cuda.amp.custom_bwd(args...)` is deprecated. Please use `torch.amp.custom_bwd(args..., device_type='cuda')` instead.\n",
      "  def backward(ctx, grad_output):\n",
      "/home/medisc/eiden/SNUH_AI_Research_2025/source/tutorials/../utilities/losses/label_smooth.py:131: FutureWarning: `torch.cuda.amp.custom_fwd(args...)` is deprecated. Please use `torch.amp.custom_fwd(args..., device_type='cuda')` instead.\n",
      "  @amp.custom_fwd(cast_inputs=torch.float32)\n",
      "/home/medisc/eiden/SNUH_AI_Research_2025/source/tutorials/../utilities/losses/label_smooth.py:140: FutureWarning: `torch.cuda.amp.custom_bwd(args...)` is deprecated. Please use `torch.amp.custom_bwd(args..., device_type='cuda')` instead.\n",
      "  def backward(ctx, grad_output):\n"
     ]
    },
    {
     "name": "stdout",
     "output_type": "stream",
     "text": [
      "torch.Size([16, 1, 512, 512]) torch.Size([16, 1, 512, 512])\n",
      "tensor([0., 1.])\n"
     ]
    },
    {
     "data": {
      "image/png": "[encoded data removed]",
      "text/plain": [
       "<Figure size 1000x500 with 2 Axes>"
      ]
     },
     "metadata": {},
     "output_type": "display_data"
    }
   ],
   "source": [
    "from torch.utils.data import DataLoader\n",
    "from utilities.datasets import CAG_Dataset\n",
    "from Args import Args_Train_Loader, Args_Valid_Loader\n",
    "\n",
    "Train_Dataset = CAG_Dataset(\n",
    "    df=train_df,\n",
    "    image_dir=os.getenv('IMAGE_DIR'),\n",
    "    mask_dir=os.getenv('MASK_DIR'),\n",
    "    default_transform = Args_Train_Loader._get_default_transform(),\n",
    "    aug_transform = Args_Train_Loader._get_aug_transform()\n",
    ")\n",
    "Valid_Dataset = CAG_Dataset(\n",
    "    df=valid_df,\n",
    "    image_dir=os.getenv('IMAGE_DIR'),\n",
    "    mask_dir=os.getenv('MASK_DIR'),\n",
    "    default_transform = Args_Valid_Loader._get_default_transform(),\n",
    "    # Prompt_Args = {\n",
    "    #     \"n_shot\" : 3\n",
    "    # }\n",
    ")\n",
    "\n",
    "Train_Loader = DataLoader(\n",
    "    Train_Dataset,\n",
    "    batch_size=Args_Train_Loader.train_bs,\n",
    "    shuffle=Args_Train_Loader.shuffle,\n",
    "    num_workers=Args_Train_Loader.num_workers,\n",
    "    pin_memory=Args_Train_Loader.pin_memory,\n",
    "    drop_last=Args_Train_Loader.drop_last,\n",
    "\n",
    ")\n",
    "Valid_Loader = DataLoader(\n",
    "    Valid_Dataset,\n",
    "    batch_size=Args_Valid_Loader.valid_bs,\n",
    "    shuffle=Args_Valid_Loader.shuffle,\n",
    "    num_workers=Args_Valid_Loader.num_workers,\n",
    "    pin_memory=Args_Valid_Loader.pin_memory,\n",
    "    drop_last=Args_Valid_Loader.drop_last,\n",
    ")\n",
    "\n",
    "sample_imgs, sample_masks = next(iter(Train_Loader))\n",
    "print(sample_imgs.shape, sample_masks.shape)\n",
    "print(sample_masks.unique())\n",
    "# sample_imgs, sample_masks 에 하나만 시각화\n",
    "import matplotlib.pyplot as plt\n",
    "plt.figure(figsize=(10, 5))\n",
    "plt.subplot(1, 2, 1)\n",
    "plt.imshow(sample_imgs[0].squeeze().cpu().numpy(), cmap = 'gray')\n",
    "plt.title('Image')\n",
    "plt.subplot(1, 2, 2)\n",
    "plt.imshow(sample_masks[0].squeeze().cpu().numpy(), cmap = 'gray')\n",
    "plt.title('Mask')\n",
    "plt.show()\n",
    "\n"
   ]
  },
  {
   "cell_type": "markdown",
   "metadata": {},
   "source": [
    "# Model Setting"
   ]
  },
  {
   "cell_type": "code",
   "execution_count": null,
   "metadata": {},
   "outputs": [
    {
     "name": "stderr",
     "output_type": "stream",
     "text": [
      "/home/medisc/miniconda3/envs/eiden/lib/python3.10/site-packages/torch/nn/parallel/data_parallel.py:37: UserWarning: \n",
      "    There is an imbalance between your GPUs. You may want to exclude GPU 1 which\n",
      "    has less than 75% of the memory or cores of GPU 0. You can do so by setting\n",
      "    the device_ids argument to DataParallel, or by setting the CUDA_VISIBLE_DEVICES\n",
      "    environment variable.\n",
      "  warnings.warn(\n"
     ]
    }
   ],
   "source": [
    "from Args import Args_experiments\n",
    "import torch.nn as nn\n",
    "from torchinfo import summary\n",
    "\n",
    "from models.deepsa import UNet\n",
    "from models.deepsa import build_model as build_model_deepsa\n",
    "from models.unet_plus_plus import build_model as build_model_unetpp\n",
    "from models.unetresnet50_dino import build_model as build_model_unetresnet50_dino\n",
    "# from models.unet_swin import build_model as build_model_unetswin\n",
    "\n",
    "exp_name = \"DeepSA-ft-BCE\"\n",
    "\n",
    "# seg_model = UNet(1, 1, 32, bilinear=True).to(Args_experiments.device)\n",
    "seg_model = build_model_deepsa(ckpt_path = os.getenv('deepsa_ckpt_path'), device = Args_experiments.device).to(Args_experiments.device)\n",
    "# seg_model = build_model_unetpp(device = Args_experiments.device).to(Args_experiments.device)\n",
    "# seg_model = build_model_unetresnet50_dino(device = Args_experiments.device).to(Args_experiments.device) \n",
    "# seg_model = build_model_unetswin(device = Args_experiments.device).to(Args_experiments.device) # [FIX]\n",
    "\n",
    "\n",
    "seg_model = nn.DataParallel(seg_model, device_ids=Args_experiments.device_ids)\n"
   ]
  },
  {
   "cell_type": "markdown",
   "metadata": {},
   "source": [
    "## Training Setting"
   ]
  },
  {
   "cell_type": "code",
   "execution_count": 5,
   "metadata": {},
   "outputs": [],
   "source": [
    "\n",
    "optimizer = Args_experiments.optimizer_fn(seg_model.parameters())\n",
    "scheduler = Args_experiments.scheduler_fn(optimizer)\n",
    "loss_fn = Args_experiments.loss_fn()"
   ]
  },
  {
   "cell_type": "code",
   "execution_count": 6,
   "metadata": {},
   "outputs": [
    {
     "name": "stdout",
     "output_type": "stream",
     "text": [
      "Epoch 1/100\n",
      "Warmup lr: 0.004200\n"
     ]
    },
    {
     "name": "stderr",
     "output_type": "stream",
     "text": [
      "                                                    \r"
     ]
    },
    {
     "name": "stdout",
     "output_type": "stream",
     "text": [
      "[Best Dice] Train Loss: 0.1803 | pixel_accuracy: 0.9619 | mean_pixel_accuracy: 0.7758 | iou: 0.4640 | precision: 0.7159 | recall: 0.5867 | f1_score: 0.6355 | dice_coef: 0.6222\n",
      "[Best Dice] Valid Loss: 0.1258 | pixel_accuracy: 0.9687 | mean_pixel_accuracy: 0.7730 | iou: 0.5082 | precision: 0.8436 | recall: 0.5725 | f1_score: 0.6814 | dice_coef: 0.6703\n",
      "Best Dice model saved at /home/medisc/eiden/SNUH_AI_Research_2025/source/logs/DeepSA-ft-BCE/best_weight.pth (Dice: 0.6703)\n",
      "Epoch 2/100\n",
      "Warmup lr: 0.008400\n"
     ]
    },
    {
     "name": "stderr",
     "output_type": "stream",
     "text": [
      "                                                    \r"
     ]
    },
    {
     "name": "stdout",
     "output_type": "stream",
     "text": [
      "Patience: 1/20\n",
      "Epoch 3/100\n",
      "Warmup lr: 0.012600\n"
     ]
    },
    {
     "name": "stderr",
     "output_type": "stream",
     "text": [
      "                                                    \r"
     ]
    },
    {
     "name": "stdout",
     "output_type": "stream",
     "text": [
      "[Best Dice] Train Loss: 0.0973 | pixel_accuracy: 0.9667 | mean_pixel_accuracy: 0.7890 | iou: 0.5066 | precision: 0.7828 | recall: 0.6134 | f1_score: 0.6860 | dice_coef: 0.6681\n",
      "[Best Dice] Valid Loss: 0.0837 | pixel_accuracy: 0.9692 | mean_pixel_accuracy: 0.7775 | iou: 0.5148 | precision: 0.8415 | recall: 0.5839 | f1_score: 0.6883 | dice_coef: 0.6756\n",
      "Best Dice model saved at /home/medisc/eiden/SNUH_AI_Research_2025/source/logs/DeepSA-ft-BCE/best_weight.pth (Dice: 0.6756)\n",
      "Epoch 4/100\n",
      "Warmup lr: 0.016800\n"
     ]
    },
    {
     "name": "stderr",
     "output_type": "stream",
     "text": [
      "                                                    \r"
     ]
    },
    {
     "name": "stdout",
     "output_type": "stream",
     "text": [
      "[Best Dice] Train Loss: 0.0875 | pixel_accuracy: 0.9688 | mean_pixel_accuracy: 0.8007 | iou: 0.5304 | precision: 0.7942 | recall: 0.6329 | f1_score: 0.7032 | dice_coef: 0.6895\n",
      "[Best Dice] Valid Loss: 0.0763 | pixel_accuracy: 0.9706 | mean_pixel_accuracy: 0.8408 | iou: 0.5716 | precision: 0.7617 | recall: 0.7173 | f1_score: 0.7371 | dice_coef: 0.7231\n",
      "Best Dice model saved at /home/medisc/eiden/SNUH_AI_Research_2025/source/logs/DeepSA-ft-BCE/best_weight.pth (Dice: 0.7231)\n",
      "Epoch 5/100\n",
      "Warmup lr: 0.021000\n"
     ]
    },
    {
     "name": "stderr",
     "output_type": "stream",
     "text": [
      "                                                    \r"
     ]
    },
    {
     "name": "stdout",
     "output_type": "stream",
     "text": [
      "Patience: 1/20\n",
      "Epoch 6/100\n",
      "Warmup lr: 0.025200\n"
     ]
    },
    {
     "name": "stderr",
     "output_type": "stream",
     "text": [
      "                                                    \r"
     ]
    },
    {
     "name": "stdout",
     "output_type": "stream",
     "text": [
      "[Best Dice] Train Loss: 0.0857 | pixel_accuracy: 0.9684 | mean_pixel_accuracy: 0.8252 | iou: 0.5468 | precision: 0.7575 | recall: 0.6874 | f1_score: 0.7170 | dice_coef: 0.7031\n",
      "[Best Dice] Valid Loss: 0.0731 | pixel_accuracy: 0.9735 | mean_pixel_accuracy: 0.8250 | iou: 0.5883 | precision: 0.8360 | recall: 0.6819 | f1_score: 0.7497 | dice_coef: 0.7383\n",
      "Best Dice model saved at /home/medisc/eiden/SNUH_AI_Research_2025/source/logs/DeepSA-ft-BCE/best_weight.pth (Dice: 0.7383)\n",
      "Epoch 7/100\n",
      "Warmup lr: 0.029400\n"
     ]
    },
    {
     "name": "stderr",
     "output_type": "stream",
     "text": [
      "                                                    \r"
     ]
    },
    {
     "name": "stdout",
     "output_type": "stream",
     "text": [
      "Patience: 1/20\n",
      "Epoch 8/100\n",
      "Warmup lr: 0.033600\n"
     ]
    },
    {
     "name": "stderr",
     "output_type": "stream",
     "text": [
      "                                                    \r"
     ]
    },
    {
     "name": "stdout",
     "output_type": "stream",
     "text": [
      "Patience: 2/20\n",
      "Epoch 9/100\n",
      "Warmup lr: 0.037800\n"
     ]
    },
    {
     "name": "stderr",
     "output_type": "stream",
     "text": [
      "                                                    \r"
     ]
    },
    {
     "name": "stdout",
     "output_type": "stream",
     "text": [
      "Patience: 3/20\n",
      "Epoch 10/100\n",
      "Warmup lr: 0.042000\n"
     ]
    },
    {
     "name": "stderr",
     "output_type": "stream",
     "text": [
      "                                                    \r"
     ]
    },
    {
     "name": "stdout",
     "output_type": "stream",
     "text": [
      "Patience: 4/20\n",
      "Epoch 11/100\n",
      "Set lr to base: 0.042000\n"
     ]
    },
    {
     "name": "stderr",
     "output_type": "stream",
     "text": [
      "                                                    \r"
     ]
    },
    {
     "name": "stdout",
     "output_type": "stream",
     "text": [
      "Patience: 5/20\n",
      "Epoch 12/100\n"
     ]
    },
    {
     "name": "stderr",
     "output_type": "stream",
     "text": [
      "                                                    \r"
     ]
    },
    {
     "name": "stdout",
     "output_type": "stream",
     "text": [
      "[Best Dice] Train Loss: 0.0787 | pixel_accuracy: 0.9704 | mean_pixel_accuracy: 0.8165 | iou: 0.5533 | precision: 0.8015 | recall: 0.6581 | f1_score: 0.7173 | dice_coef: 0.7065\n",
      "[Best Dice] Valid Loss: 0.0710 | pixel_accuracy: 0.9726 | mean_pixel_accuracy: 0.8682 | iou: 0.6039 | precision: 0.7539 | recall: 0.7679 | f1_score: 0.7598 | dice_coef: 0.7502\n",
      "Best Dice model saved at /home/medisc/eiden/SNUH_AI_Research_2025/source/logs/DeepSA-ft-BCE/best_weight.pth (Dice: 0.7502)\n",
      "Epoch 13/100\n"
     ]
    },
    {
     "name": "stderr",
     "output_type": "stream",
     "text": [
      "                                                    \r"
     ]
    },
    {
     "name": "stdout",
     "output_type": "stream",
     "text": [
      "[Best Dice] Train Loss: 0.0767 | pixel_accuracy: 0.9714 | mean_pixel_accuracy: 0.8401 | iou: 0.5806 | precision: 0.7790 | recall: 0.7122 | f1_score: 0.7429 | dice_coef: 0.7319\n",
      "[Best Dice] Valid Loss: 0.0681 | pixel_accuracy: 0.9748 | mean_pixel_accuracy: 0.8310 | iou: 0.6061 | precision: 0.8489 | recall: 0.6918 | f1_score: 0.7616 | dice_coef: 0.7525\n",
      "Best Dice model saved at /home/medisc/eiden/SNUH_AI_Research_2025/source/logs/DeepSA-ft-BCE/best_weight.pth (Dice: 0.7525)\n",
      "Epoch 14/100\n"
     ]
    },
    {
     "name": "stderr",
     "output_type": "stream",
     "text": [
      "                                                    \r"
     ]
    },
    {
     "name": "stdout",
     "output_type": "stream",
     "text": [
      "Patience: 1/20\n",
      "Epoch 15/100\n"
     ]
    },
    {
     "name": "stderr",
     "output_type": "stream",
     "text": [
      "                                                    \r"
     ]
    },
    {
     "name": "stdout",
     "output_type": "stream",
     "text": [
      "[Best Dice] Train Loss: 0.0709 | pixel_accuracy: 0.9734 | mean_pixel_accuracy: 0.8370 | iou: 0.5949 | precision: 0.8157 | recall: 0.7007 | f1_score: 0.7528 | dice_coef: 0.7433\n",
      "[Best Dice] Valid Loss: 0.0658 | pixel_accuracy: 0.9753 | mean_pixel_accuracy: 0.8408 | iou: 0.6143 | precision: 0.8382 | recall: 0.7081 | f1_score: 0.7669 | dice_coef: 0.7590\n",
      "Best Dice model saved at /home/medisc/eiden/SNUH_AI_Research_2025/source/logs/DeepSA-ft-BCE/best_weight.pth (Dice: 0.7590)\n",
      "Epoch 16/100\n"
     ]
    },
    {
     "name": "stderr",
     "output_type": "stream",
     "text": [
      "                                                    \r"
     ]
    },
    {
     "name": "stdout",
     "output_type": "stream",
     "text": [
      "[Best Dice] Train Loss: 0.0689 | pixel_accuracy: 0.9739 | mean_pixel_accuracy: 0.8450 | iou: 0.6037 | precision: 0.8099 | recall: 0.7154 | f1_score: 0.7590 | dice_coef: 0.7501\n",
      "[Best Dice] Valid Loss: 0.0646 | pixel_accuracy: 0.9755 | mean_pixel_accuracy: 0.8382 | iou: 0.6157 | precision: 0.8487 | recall: 0.7006 | f1_score: 0.7671 | dice_coef: 0.7607\n",
      "Best Dice model saved at /home/medisc/eiden/SNUH_AI_Research_2025/source/logs/DeepSA-ft-BCE/best_weight.pth (Dice: 0.7607)\n",
      "Epoch 17/100\n"
     ]
    },
    {
     "name": "stderr",
     "output_type": "stream",
     "text": [
      "                                                    \r"
     ]
    },
    {
     "name": "stdout",
     "output_type": "stream",
     "text": [
      "[Best Dice] Train Loss: 0.0676 | pixel_accuracy: 0.9744 | mean_pixel_accuracy: 0.8437 | iou: 0.6097 | precision: 0.8241 | recall: 0.7122 | f1_score: 0.7636 | dice_coef: 0.7551\n",
      "[Best Dice] Valid Loss: 0.0636 | pixel_accuracy: 0.9759 | mean_pixel_accuracy: 0.8396 | iou: 0.6191 | precision: 0.8507 | recall: 0.7024 | f1_score: 0.7690 | dice_coef: 0.7626\n",
      "Best Dice model saved at /home/medisc/eiden/SNUH_AI_Research_2025/source/logs/DeepSA-ft-BCE/best_weight.pth (Dice: 0.7626)\n",
      "Epoch 18/100\n"
     ]
    },
    {
     "name": "stderr",
     "output_type": "stream",
     "text": [
      "                                                    \r"
     ]
    },
    {
     "name": "stdout",
     "output_type": "stream",
     "text": [
      "[Best Dice] Train Loss: 0.0663 | pixel_accuracy: 0.9746 | mean_pixel_accuracy: 0.8517 | iou: 0.6152 | precision: 0.8128 | recall: 0.7279 | f1_score: 0.7677 | dice_coef: 0.7593\n",
      "[Best Dice] Valid Loss: 0.0629 | pixel_accuracy: 0.9761 | mean_pixel_accuracy: 0.8416 | iou: 0.6245 | precision: 0.8545 | recall: 0.7067 | f1_score: 0.7731 | dice_coef: 0.7673\n",
      "Best Dice model saved at /home/medisc/eiden/SNUH_AI_Research_2025/source/logs/DeepSA-ft-BCE/best_weight.pth (Dice: 0.7673)\n",
      "Epoch 19/100\n"
     ]
    },
    {
     "name": "stderr",
     "output_type": "stream",
     "text": [
      "                                                    \r"
     ]
    },
    {
     "name": "stdout",
     "output_type": "stream",
     "text": [
      "Patience: 1/20\n",
      "Epoch 20/100\n"
     ]
    },
    {
     "name": "stderr",
     "output_type": "stream",
     "text": [
      "                                                    \r"
     ]
    },
    {
     "name": "stdout",
     "output_type": "stream",
     "text": [
      "Patience: 2/20\n",
      "Epoch 21/100\n"
     ]
    },
    {
     "name": "stderr",
     "output_type": "stream",
     "text": [
      "                                                    \r"
     ]
    },
    {
     "name": "stdout",
     "output_type": "stream",
     "text": [
      "Patience: 3/20\n",
      "Epoch 22/100\n"
     ]
    },
    {
     "name": "stderr",
     "output_type": "stream",
     "text": [
      "                                                    \r"
     ]
    },
    {
     "name": "stdout",
     "output_type": "stream",
     "text": [
      "Patience: 4/20\n",
      "Epoch 23/100\n"
     ]
    },
    {
     "name": "stderr",
     "output_type": "stream",
     "text": [
      "                                                    \r"
     ]
    },
    {
     "name": "stdout",
     "output_type": "stream",
     "text": [
      "[Best Dice] Train Loss: 0.0651 | pixel_accuracy: 0.9752 | mean_pixel_accuracy: 0.8523 | iou: 0.6201 | precision: 0.8221 | recall: 0.7262 | f1_score: 0.7707 | dice_coef: 0.7631\n",
      "[Best Dice] Valid Loss: 0.0627 | pixel_accuracy: 0.9761 | mean_pixel_accuracy: 0.8443 | iou: 0.6251 | precision: 0.8484 | recall: 0.7118 | f1_score: 0.7736 | dice_coef: 0.7677\n",
      "Best Dice model saved at /home/medisc/eiden/SNUH_AI_Research_2025/source/logs/DeepSA-ft-BCE/best_weight.pth (Dice: 0.7677)\n",
      "Epoch 24/100\n"
     ]
    },
    {
     "name": "stderr",
     "output_type": "stream",
     "text": [
      "                                                    \r"
     ]
    },
    {
     "name": "stdout",
     "output_type": "stream",
     "text": [
      "[Best Dice] Train Loss: 0.0651 | pixel_accuracy: 0.9751 | mean_pixel_accuracy: 0.8520 | iou: 0.6186 | precision: 0.8209 | recall: 0.7247 | f1_score: 0.7695 | dice_coef: 0.7615\n",
      "[Best Dice] Valid Loss: 0.0625 | pixel_accuracy: 0.9762 | mean_pixel_accuracy: 0.8439 | iou: 0.6254 | precision: 0.8508 | recall: 0.7100 | f1_score: 0.7736 | dice_coef: 0.7679\n",
      "Best Dice model saved at /home/medisc/eiden/SNUH_AI_Research_2025/source/logs/DeepSA-ft-BCE/best_weight.pth (Dice: 0.7679)\n",
      "Epoch 25/100\n"
     ]
    },
    {
     "name": "stderr",
     "output_type": "stream",
     "text": [
      "                                                    \r"
     ]
    },
    {
     "name": "stdout",
     "output_type": "stream",
     "text": [
      "[Best Dice] Train Loss: 0.0653 | pixel_accuracy: 0.9749 | mean_pixel_accuracy: 0.8461 | iou: 0.6132 | precision: 0.8300 | recall: 0.7124 | f1_score: 0.7654 | dice_coef: 0.7578\n",
      "[Best Dice] Valid Loss: 0.0619 | pixel_accuracy: 0.9765 | mean_pixel_accuracy: 0.8482 | iou: 0.6299 | precision: 0.8473 | recall: 0.7182 | f1_score: 0.7769 | dice_coef: 0.7714\n",
      "Best Dice model saved at /home/medisc/eiden/SNUH_AI_Research_2025/source/logs/DeepSA-ft-BCE/best_weight.pth (Dice: 0.7714)\n",
      "Epoch 26/100\n"
     ]
    },
    {
     "name": "stderr",
     "output_type": "stream",
     "text": [
      "                                                    \r"
     ]
    },
    {
     "name": "stdout",
     "output_type": "stream",
     "text": [
      "Patience: 1/20\n",
      "Epoch 27/100\n"
     ]
    },
    {
     "name": "stderr",
     "output_type": "stream",
     "text": [
      "                                                    \r"
     ]
    },
    {
     "name": "stdout",
     "output_type": "stream",
     "text": [
      "[Best Dice] Train Loss: 0.0650 | pixel_accuracy: 0.9752 | mean_pixel_accuracy: 0.8476 | iou: 0.6176 | precision: 0.8327 | recall: 0.7146 | f1_score: 0.7686 | dice_coef: 0.7611\n",
      "[Best Dice] Valid Loss: 0.0605 | pixel_accuracy: 0.9772 | mean_pixel_accuracy: 0.8503 | iou: 0.6388 | precision: 0.8581 | recall: 0.7205 | f1_score: 0.7828 | dice_coef: 0.7784\n",
      "Best Dice model saved at /home/medisc/eiden/SNUH_AI_Research_2025/source/logs/DeepSA-ft-BCE/best_weight.pth (Dice: 0.7784)\n",
      "Epoch 28/100\n"
     ]
    },
    {
     "name": "stderr",
     "output_type": "stream",
     "text": [
      "                                                    \r"
     ]
    },
    {
     "name": "stdout",
     "output_type": "stream",
     "text": [
      "Patience: 1/20\n",
      "Epoch 29/100\n"
     ]
    },
    {
     "name": "stderr",
     "output_type": "stream",
     "text": [
      "                                                    \r"
     ]
    },
    {
     "name": "stdout",
     "output_type": "stream",
     "text": [
      "Patience: 2/20\n",
      "Epoch 30/100\n"
     ]
    },
    {
     "name": "stderr",
     "output_type": "stream",
     "text": [
      "                                                    \r"
     ]
    },
    {
     "name": "stdout",
     "output_type": "stream",
     "text": [
      "Patience: 3/20\n",
      "Epoch 31/100\n"
     ]
    },
    {
     "name": "stderr",
     "output_type": "stream",
     "text": [
      "                                                    \r"
     ]
    },
    {
     "name": "stdout",
     "output_type": "stream",
     "text": [
      "[Best Dice] Train Loss: 0.0650 | pixel_accuracy: 0.9750 | mean_pixel_accuracy: 0.8470 | iou: 0.6134 | precision: 0.8321 | recall: 0.7131 | f1_score: 0.7650 | dice_coef: 0.7579\n",
      "[Best Dice] Valid Loss: 0.0613 | pixel_accuracy: 0.9762 | mean_pixel_accuracy: 0.8779 | iou: 0.6452 | precision: 0.7975 | recall: 0.7799 | f1_score: 0.7882 | dice_coef: 0.7833\n",
      "Best Dice model saved at /home/medisc/eiden/SNUH_AI_Research_2025/source/logs/DeepSA-ft-BCE/best_weight.pth (Dice: 0.7833)\n",
      "Epoch 32/100\n"
     ]
    },
    {
     "name": "stderr",
     "output_type": "stream",
     "text": [
      "                                                    \r"
     ]
    },
    {
     "name": "stdout",
     "output_type": "stream",
     "text": [
      "Patience: 1/20\n",
      "Epoch 33/100\n"
     ]
    },
    {
     "name": "stderr",
     "output_type": "stream",
     "text": [
      "                                                    \r"
     ]
    },
    {
     "name": "stdout",
     "output_type": "stream",
     "text": [
      "Patience: 2/20\n",
      "Epoch 34/100\n"
     ]
    },
    {
     "name": "stderr",
     "output_type": "stream",
     "text": [
      "                                                    \r"
     ]
    },
    {
     "name": "stdout",
     "output_type": "stream",
     "text": [
      "Patience: 3/20\n",
      "Epoch 35/100\n"
     ]
    },
    {
     "name": "stderr",
     "output_type": "stream",
     "text": [
      "                                                    \r"
     ]
    },
    {
     "name": "stdout",
     "output_type": "stream",
     "text": [
      "Patience: 4/20\n",
      "Epoch 36/100\n"
     ]
    },
    {
     "name": "stderr",
     "output_type": "stream",
     "text": [
      "                                                    \r"
     ]
    },
    {
     "name": "stdout",
     "output_type": "stream",
     "text": [
      "Patience: 5/20\n",
      "Epoch 37/100\n"
     ]
    },
    {
     "name": "stderr",
     "output_type": "stream",
     "text": [
      "                                                    \r"
     ]
    },
    {
     "name": "stdout",
     "output_type": "stream",
     "text": [
      "Patience: 6/20\n",
      "Epoch 38/100\n"
     ]
    },
    {
     "name": "stderr",
     "output_type": "stream",
     "text": [
      "                                                    \r"
     ]
    },
    {
     "name": "stdout",
     "output_type": "stream",
     "text": [
      "Patience: 7/20\n",
      "Epoch 39/100\n"
     ]
    },
    {
     "name": "stderr",
     "output_type": "stream",
     "text": [
      "                                                    \r"
     ]
    },
    {
     "name": "stdout",
     "output_type": "stream",
     "text": [
      "Patience: 8/20\n",
      "Epoch 40/100\n"
     ]
    },
    {
     "name": "stderr",
     "output_type": "stream",
     "text": [
      "                                                    \r"
     ]
    },
    {
     "name": "stdout",
     "output_type": "stream",
     "text": [
      "Patience: 9/20\n",
      "Epoch 41/100\n"
     ]
    },
    {
     "name": "stderr",
     "output_type": "stream",
     "text": [
      "                                                    \r"
     ]
    },
    {
     "name": "stdout",
     "output_type": "stream",
     "text": [
      "Patience: 10/20\n",
      "Epoch 42/100\n"
     ]
    },
    {
     "name": "stderr",
     "output_type": "stream",
     "text": [
      "                                                    \r"
     ]
    },
    {
     "name": "stdout",
     "output_type": "stream",
     "text": [
      "Patience: 11/20\n",
      "Epoch 43/100\n"
     ]
    },
    {
     "name": "stderr",
     "output_type": "stream",
     "text": [
      "                                                    \r"
     ]
    },
    {
     "name": "stdout",
     "output_type": "stream",
     "text": [
      "Patience: 12/20\n",
      "Epoch 44/100\n"
     ]
    },
    {
     "name": "stderr",
     "output_type": "stream",
     "text": [
      "                                                    \r"
     ]
    },
    {
     "name": "stdout",
     "output_type": "stream",
     "text": [
      "Patience: 13/20\n",
      "Epoch 45/100\n"
     ]
    },
    {
     "name": "stderr",
     "output_type": "stream",
     "text": [
      "                                                    \r"
     ]
    },
    {
     "name": "stdout",
     "output_type": "stream",
     "text": [
      "Patience: 14/20\n",
      "Epoch 46/100\n"
     ]
    },
    {
     "name": "stderr",
     "output_type": "stream",
     "text": [
      "                                                    \r"
     ]
    },
    {
     "name": "stdout",
     "output_type": "stream",
     "text": [
      "Patience: 15/20\n",
      "Epoch 47/100\n"
     ]
    },
    {
     "name": "stderr",
     "output_type": "stream",
     "text": [
      "                                                    \r"
     ]
    },
    {
     "name": "stdout",
     "output_type": "stream",
     "text": [
      "Patience: 16/20\n",
      "Epoch 48/100\n"
     ]
    },
    {
     "name": "stderr",
     "output_type": "stream",
     "text": [
      "                                                    \r"
     ]
    },
    {
     "name": "stdout",
     "output_type": "stream",
     "text": [
      "Patience: 17/20\n",
      "Epoch 49/100\n"
     ]
    },
    {
     "name": "stderr",
     "output_type": "stream",
     "text": [
      "                                                    \r"
     ]
    },
    {
     "name": "stdout",
     "output_type": "stream",
     "text": [
      "Patience: 18/20\n",
      "Epoch 50/100\n"
     ]
    },
    {
     "name": "stderr",
     "output_type": "stream",
     "text": [
      "                                                    \r"
     ]
    },
    {
     "name": "stdout",
     "output_type": "stream",
     "text": [
      "[Best Dice] Train Loss: 0.0595 | pixel_accuracy: 0.9770 | mean_pixel_accuracy: 0.8600 | iou: 0.6424 | precision: 0.8488 | recall: 0.7349 | f1_score: 0.7862 | dice_coef: 0.7802\n",
      "[Best Dice] Valid Loss: 0.0589 | pixel_accuracy: 0.9772 | mean_pixel_accuracy: 0.8678 | iou: 0.6487 | precision: 0.8296 | recall: 0.7538 | f1_score: 0.7895 | dice_coef: 0.7858\n",
      "Best Dice model saved at /home/medisc/eiden/SNUH_AI_Research_2025/source/logs/DeepSA-ft-BCE/best_weight.pth (Dice: 0.7858)\n",
      "Epoch 51/100\n"
     ]
    },
    {
     "name": "stderr",
     "output_type": "stream",
     "text": [
      "                                                    \r"
     ]
    },
    {
     "name": "stdout",
     "output_type": "stream",
     "text": [
      "Patience: 1/20\n",
      "Epoch 52/100\n"
     ]
    },
    {
     "name": "stderr",
     "output_type": "stream",
     "text": [
      "                                                    \r"
     ]
    },
    {
     "name": "stdout",
     "output_type": "stream",
     "text": [
      "Patience: 2/20\n",
      "Epoch 53/100\n"
     ]
    },
    {
     "name": "stderr",
     "output_type": "stream",
     "text": [
      "                                                    \r"
     ]
    },
    {
     "name": "stdout",
     "output_type": "stream",
     "text": [
      "Patience: 3/20\n",
      "Epoch 54/100\n"
     ]
    },
    {
     "name": "stderr",
     "output_type": "stream",
     "text": [
      "                                                    \r"
     ]
    },
    {
     "name": "stdout",
     "output_type": "stream",
     "text": [
      "Patience: 4/20\n",
      "Epoch 55/100\n"
     ]
    },
    {
     "name": "stderr",
     "output_type": "stream",
     "text": [
      "                                                    \r"
     ]
    },
    {
     "name": "stdout",
     "output_type": "stream",
     "text": [
      "Patience: 5/20\n",
      "Epoch 56/100\n"
     ]
    },
    {
     "name": "stderr",
     "output_type": "stream",
     "text": [
      "                                                    \r"
     ]
    },
    {
     "name": "stdout",
     "output_type": "stream",
     "text": [
      "[Best Dice] Train Loss: 0.0549 | pixel_accuracy: 0.9783 | mean_pixel_accuracy: 0.8697 | iou: 0.6621 | precision: 0.8546 | recall: 0.7526 | f1_score: 0.7997 | dice_coef: 0.7949\n",
      "[Best Dice] Valid Loss: 0.0579 | pixel_accuracy: 0.9774 | mean_pixel_accuracy: 0.8677 | iou: 0.6507 | precision: 0.8355 | recall: 0.7507 | f1_score: 0.7905 | dice_coef: 0.7874\n",
      "Best Dice model saved at /home/medisc/eiden/SNUH_AI_Research_2025/source/logs/DeepSA-ft-BCE/best_weight.pth (Dice: 0.7874)\n",
      "Epoch 57/100\n"
     ]
    },
    {
     "name": "stderr",
     "output_type": "stream",
     "text": [
      "                                                    \r"
     ]
    },
    {
     "name": "stdout",
     "output_type": "stream",
     "text": [
      "Patience: 1/20\n",
      "Epoch 58/100\n"
     ]
    },
    {
     "name": "stderr",
     "output_type": "stream",
     "text": [
      "                                                    \r"
     ]
    },
    {
     "name": "stdout",
     "output_type": "stream",
     "text": [
      "Patience: 2/20\n",
      "Epoch 59/100\n"
     ]
    },
    {
     "name": "stderr",
     "output_type": "stream",
     "text": [
      "                                                    \r"
     ]
    },
    {
     "name": "stdout",
     "output_type": "stream",
     "text": [
      "Patience: 3/20\n",
      "Epoch 60/100\n"
     ]
    },
    {
     "name": "stderr",
     "output_type": "stream",
     "text": [
      "                                                    \r"
     ]
    },
    {
     "name": "stdout",
     "output_type": "stream",
     "text": [
      "Patience: 4/20\n",
      "Epoch 61/100\n"
     ]
    },
    {
     "name": "stderr",
     "output_type": "stream",
     "text": [
      "                                                    \r"
     ]
    },
    {
     "name": "stdout",
     "output_type": "stream",
     "text": [
      "Patience: 5/20\n",
      "Epoch 62/100\n"
     ]
    },
    {
     "name": "stderr",
     "output_type": "stream",
     "text": [
      "                                                    \r"
     ]
    },
    {
     "name": "stdout",
     "output_type": "stream",
     "text": [
      "Patience: 6/20\n",
      "Epoch 63/100\n"
     ]
    },
    {
     "name": "stderr",
     "output_type": "stream",
     "text": [
      "                                                    \r"
     ]
    },
    {
     "name": "stdout",
     "output_type": "stream",
     "text": [
      "Patience: 7/20\n",
      "Epoch 64/100\n"
     ]
    },
    {
     "name": "stderr",
     "output_type": "stream",
     "text": [
      "                                                    \r"
     ]
    },
    {
     "name": "stdout",
     "output_type": "stream",
     "text": [
      "Patience: 8/20\n",
      "Epoch 65/100\n"
     ]
    },
    {
     "name": "stderr",
     "output_type": "stream",
     "text": [
      "                                                    \r"
     ]
    },
    {
     "name": "stdout",
     "output_type": "stream",
     "text": [
      "Patience: 9/20\n",
      "Epoch 66/100\n"
     ]
    },
    {
     "name": "stderr",
     "output_type": "stream",
     "text": [
      "                                                    \r"
     ]
    },
    {
     "name": "stdout",
     "output_type": "stream",
     "text": [
      "Patience: 10/20\n",
      "Epoch 67/100\n"
     ]
    },
    {
     "name": "stderr",
     "output_type": "stream",
     "text": [
      "                                                    \r"
     ]
    },
    {
     "name": "stdout",
     "output_type": "stream",
     "text": [
      "Patience: 11/20\n",
      "Epoch 68/100\n"
     ]
    },
    {
     "name": "stderr",
     "output_type": "stream",
     "text": [
      "                                                    \r"
     ]
    },
    {
     "name": "stdout",
     "output_type": "stream",
     "text": [
      "Patience: 12/20\n",
      "Epoch 69/100\n"
     ]
    },
    {
     "name": "stderr",
     "output_type": "stream",
     "text": [
      "                                                    \r"
     ]
    },
    {
     "name": "stdout",
     "output_type": "stream",
     "text": [
      "Patience: 13/20\n",
      "Epoch 70/100\n"
     ]
    },
    {
     "name": "stderr",
     "output_type": "stream",
     "text": [
      "                                                    \r"
     ]
    },
    {
     "name": "stdout",
     "output_type": "stream",
     "text": [
      "Patience: 14/20\n",
      "Epoch 71/100\n"
     ]
    },
    {
     "name": "stderr",
     "output_type": "stream",
     "text": [
      "                                                    \r"
     ]
    },
    {
     "name": "stdout",
     "output_type": "stream",
     "text": [
      "Patience: 15/20\n",
      "Epoch 72/100\n"
     ]
    },
    {
     "name": "stderr",
     "output_type": "stream",
     "text": [
      "                                                    \r"
     ]
    },
    {
     "name": "stdout",
     "output_type": "stream",
     "text": [
      "Patience: 16/20\n",
      "Epoch 73/100\n"
     ]
    },
    {
     "name": "stderr",
     "output_type": "stream",
     "text": [
      "                                                    \r"
     ]
    },
    {
     "name": "stdout",
     "output_type": "stream",
     "text": [
      "Patience: 17/20\n",
      "Epoch 74/100\n"
     ]
    },
    {
     "name": "stderr",
     "output_type": "stream",
     "text": [
      "                                                    \r"
     ]
    },
    {
     "name": "stdout",
     "output_type": "stream",
     "text": [
      "Patience: 18/20\n",
      "Epoch 75/100\n"
     ]
    },
    {
     "name": "stderr",
     "output_type": "stream",
     "text": [
      "                                                    \r"
     ]
    },
    {
     "name": "stdout",
     "output_type": "stream",
     "text": [
      "Patience: 19/20\n",
      "Epoch 76/100\n"
     ]
    },
    {
     "name": "stderr",
     "output_type": "stream",
     "text": [
      "                                                    "
     ]
    },
    {
     "name": "stdout",
     "output_type": "stream",
     "text": [
      "Patience: 20/20\n",
      "Early stopping triggered.\n"
     ]
    },
    {
     "name": "stderr",
     "output_type": "stream",
     "text": [
      "\r"
     ]
    }
   ],
   "source": [
    "import torch\n",
    "from tqdm import tqdm\n",
    "import os\n",
    "from utilities.metrics import SegmentationMetrics\n",
    "\n",
    "metrics = SegmentationMetrics()\n",
    "\n",
    "def set_lr(optimizer, lr):\n",
    "    for param_group in optimizer.param_groups:\n",
    "        param_group['lr'] = lr\n",
    "\n",
    "def get_lr(optimizer):\n",
    "    return optimizer.param_groups[0]['lr']\n",
    "\n",
    "def train_one_epoch(model, loader, optimizer, loss_fn, device):\n",
    "    model.train()\n",
    "    epoch_loss, metric_sum = 0, None\n",
    "    for imgs, masks in tqdm(loader, desc=\"Train\", leave=False):\n",
    "        imgs, masks = imgs.to(device), masks.to(device)\n",
    "        optimizer.zero_grad()\n",
    "        outputs = model(imgs)\n",
    "        loss = loss_fn(outputs, masks)\n",
    "        loss.backward()\n",
    "        torch.nn.utils.clip_grad_norm_(model.parameters(), max_norm=5.0)\n",
    "        optimizer.step()\n",
    "        epoch_loss += loss.item() * imgs.size(0)\n",
    "        batch_metrics = metrics.evaluate(torch.sigmoid(outputs), masks)\n",
    "        if metric_sum is None:\n",
    "            metric_sum = {k: v * imgs.size(0) for k, v in batch_metrics.items()}\n",
    "        else:\n",
    "            for k in metric_sum:\n",
    "                metric_sum[k] += batch_metrics[k] * imgs.size(0)\n",
    "    n = len(loader.dataset)\n",
    "    avg_metrics = {k: v / n for k, v in metric_sum.items()}\n",
    "    return epoch_loss / n, avg_metrics\n",
    "\n",
    "@torch.no_grad()\n",
    "def valid_one_epoch(model, loader, loss_fn, device):\n",
    "    model.eval()\n",
    "    epoch_loss, metric_sum = 0, None\n",
    "    for imgs, masks in tqdm(loader, desc=\"Valid\", leave=False):\n",
    "        imgs, masks = imgs.to(device), masks.to(device)\n",
    "        outputs = model(imgs)\n",
    "        loss = loss_fn(outputs, masks)\n",
    "        epoch_loss += loss.item() * imgs.size(0)\n",
    "        batch_metrics = metrics.evaluate(torch.sigmoid(outputs), masks)\n",
    "        if metric_sum is None:\n",
    "            metric_sum = {k: v * imgs.size(0) for k, v in batch_metrics.items()}\n",
    "        else:\n",
    "            for k in metric_sum:\n",
    "                metric_sum[k] += batch_metrics[k] * imgs.size(0)\n",
    "    n = len(loader.dataset)\n",
    "    avg_metrics = {k: v / n for k, v in metric_sum.items()}\n",
    "    return epoch_loss / n, avg_metrics\n",
    "\n",
    "def run_training(\n",
    "    model, optimizer, scheduler, loss_fn, \n",
    "    train_loader, valid_loader, device, \n",
    "    num_epochs, patience, exp_name\n",
    "):\n",
    "    best_dice = 0\n",
    "    best_valid_loss = float('inf')\n",
    "    patience_counter = 0\n",
    "    save_dir = os.path.join(os.getenv(\"EXPERIMENT_DIR\", \"./EXPERIMENT_DIR\"), exp_name)\n",
    "    os.makedirs(save_dir, exist_ok=True)\n",
    "    best_weight_dice_path = os.path.join(save_dir, \"best_weight.pth\")\n",
    "    warmup_epoch = getattr(Args_experiments, \"warmup_epoch\", 0)\n",
    "    base_lr = Args_experiments.lr\n",
    "    for epoch in range(1, num_epochs+1):\n",
    "        print(f\"Epoch {epoch}/{num_epochs}\")\n",
    "        if warmup_epoch > 0 and epoch <= warmup_epoch:\n",
    "            warmup_lr = base_lr * epoch / warmup_epoch\n",
    "            set_lr(optimizer, warmup_lr)\n",
    "            print(f\"Warmup lr: {get_lr(optimizer):.6f}\")\n",
    "        elif warmup_epoch > 0 and epoch == warmup_epoch + 1:\n",
    "            set_lr(optimizer, base_lr)\n",
    "            print(f\"Set lr to base: {get_lr(optimizer):.6f}\")\n",
    "        train_loss, train_metrics = train_one_epoch(model, train_loader, optimizer, loss_fn, device)\n",
    "        valid_loss, valid_metrics = valid_one_epoch(model, valid_loader, loss_fn, device)\n",
    "        scheduler.step()\n",
    "        # dice 기준 best\n",
    "        if valid_metrics[\"dice_coef\"] > best_dice:\n",
    "            best_dice = valid_metrics[\"dice_coef\"]\n",
    "            patience_counter = 0\n",
    "            torch.save(model.state_dict(), best_weight_dice_path)\n",
    "            print(f\"[Best Dice] Train Loss: {train_loss:.4f} | \" + \" | \".join([f'{k}: {v:.4f}' for k, v in train_metrics.items()]))\n",
    "            print(f\"[Best Dice] Valid Loss: {valid_loss:.4f} | \" + \" | \".join([f'{k}: {v:.4f}' for k, v in valid_metrics.items()]))\n",
    "            print(f\"Best Dice model saved at {best_weight_dice_path} (Dice: {best_dice:.4f})\")\n",
    "        else:\n",
    "            patience_counter += 1\n",
    "            print(f\"Patience: {patience_counter}/{patience}\")\n",
    "            if patience_counter >= patience:\n",
    "                print(\"Early stopping triggered.\")\n",
    "                break\n",
    "        # loss 기준 best\n",
    "        if valid_loss < best_valid_loss:\n",
    "            best_valid_loss = valid_loss\n",
    "\n",
    "num_epochs = Args_experiments.epoch\n",
    "patience = Args_experiments.patience\n",
    "\n",
    "run_training(\n",
    "    seg_model, optimizer, scheduler, loss_fn,\n",
    "    Train_Loader, Valid_Loader, Args_experiments.device,\n",
    "    num_epochs, patience, exp_name\n",
    ")"
   ]
  },
  {
   "cell_type": "markdown",
   "metadata": {},
   "source": [
    "## Model Series"
   ]
  },
  {
   "cell_type": "markdown",
   "metadata": {},
   "source": [
    "### MedSegDiff"
   ]
  },
  {
   "cell_type": "code",
   "execution_count": 7,
   "metadata": {},
   "outputs": [
    {
     "name": "stdout",
     "output_type": "stream",
     "text": [
      "2\n"
     ]
    },
    {
     "data": {
      "application/vnd.jupyter.widget-view+json": {
       "model_id": "cf79ff51d9b1403198c7d7bd64a017a1",
       "version_major": 2,
       "version_minor": 0
      },
      "text/plain": [
       "sampling loop time step:   0%|          | 0/1000 [00:00<?, ?it/s]"
      ]
     },
     "metadata": {},
     "output_type": "display_data"
    },
    {
     "ename": "KeyboardInterrupt",
     "evalue": "",
     "output_type": "error",
     "traceback": [
      "\u001b[0;31m---------------------------------------------------------------------------\u001b[0m",
      "\u001b[0;31mKeyboardInterrupt\u001b[0m                         Traceback (most recent call last)",
      "Cell \u001b[0;32mIn[7], line 19\u001b[0m\n\u001b[1;32m     16\u001b[0m loss\u001b[38;5;241m.\u001b[39mbackward()\n\u001b[1;32m     18\u001b[0m \u001b[38;5;66;03m# after a lot of training\u001b[39;00m\n\u001b[0;32m---> 19\u001b[0m pred \u001b[38;5;241m=\u001b[39m \u001b[43mseg_model\u001b[49m\u001b[38;5;241;43m.\u001b[39;49m\u001b[43msample\u001b[49m\u001b[43m(\u001b[49m\u001b[43minput_imgs\u001b[49m\u001b[43m)\u001b[49m     \u001b[38;5;66;03m# pass in your unsegmented images\u001b[39;00m\n\u001b[1;32m     20\u001b[0m pred\u001b[38;5;241m.\u001b[39mshape                              \u001b[38;5;66;03m# predicted segmented images - (8, 3, 128, 128)\u001b[39;00m\n",
      "File \u001b[0;32m~/miniconda3/envs/eiden/lib/python3.10/site-packages/torch/utils/_contextlib.py:116\u001b[0m, in \u001b[0;36mcontext_decorator.<locals>.decorate_context\u001b[0;34m(*args, **kwargs)\u001b[0m\n\u001b[1;32m    113\u001b[0m \u001b[38;5;129m@functools\u001b[39m\u001b[38;5;241m.\u001b[39mwraps(func)\n\u001b[1;32m    114\u001b[0m \u001b[38;5;28;01mdef\u001b[39;00m\u001b[38;5;250m \u001b[39m\u001b[38;5;21mdecorate_context\u001b[39m(\u001b[38;5;241m*\u001b[39margs, \u001b[38;5;241m*\u001b[39m\u001b[38;5;241m*\u001b[39mkwargs):\n\u001b[1;32m    115\u001b[0m     \u001b[38;5;28;01mwith\u001b[39;00m ctx_factory():\n\u001b[0;32m--> 116\u001b[0m         \u001b[38;5;28;01mreturn\u001b[39;00m \u001b[43mfunc\u001b[49m\u001b[43m(\u001b[49m\u001b[38;5;241;43m*\u001b[39;49m\u001b[43margs\u001b[49m\u001b[43m,\u001b[49m\u001b[43m \u001b[49m\u001b[38;5;241;43m*\u001b[39;49m\u001b[38;5;241;43m*\u001b[39;49m\u001b[43mkwargs\u001b[49m\u001b[43m)\u001b[49m\n",
      "File \u001b[0;32m~/eiden/SNUH_AI_Research_2025/source/tutorials/../models/med_seg_diff.py:808\u001b[0m, in \u001b[0;36mMedSegDiff.sample\u001b[0;34m(self, cond_img)\u001b[0m\n\u001b[1;32m    806\u001b[0m image_size, mask_channels \u001b[38;5;241m=\u001b[39m \u001b[38;5;28mself\u001b[39m\u001b[38;5;241m.\u001b[39mimage_size, \u001b[38;5;28mself\u001b[39m\u001b[38;5;241m.\u001b[39mmask_channels\n\u001b[1;32m    807\u001b[0m sample_fn \u001b[38;5;241m=\u001b[39m \u001b[38;5;28mself\u001b[39m\u001b[38;5;241m.\u001b[39mp_sample_loop \u001b[38;5;28;01mif\u001b[39;00m \u001b[38;5;129;01mnot\u001b[39;00m \u001b[38;5;28mself\u001b[39m\u001b[38;5;241m.\u001b[39mis_ddim_sampling \u001b[38;5;28;01melse\u001b[39;00m \u001b[38;5;28mself\u001b[39m\u001b[38;5;241m.\u001b[39mddim_sample\n\u001b[0;32m--> 808\u001b[0m \u001b[38;5;28;01mreturn\u001b[39;00m \u001b[43msample_fn\u001b[49m\u001b[43m(\u001b[49m\u001b[43m(\u001b[49m\u001b[43mbatch_size\u001b[49m\u001b[43m,\u001b[49m\u001b[43m \u001b[49m\u001b[43mmask_channels\u001b[49m\u001b[43m,\u001b[49m\u001b[43m \u001b[49m\u001b[43mimage_size\u001b[49m\u001b[43m,\u001b[49m\u001b[43m \u001b[49m\u001b[43mimage_size\u001b[49m\u001b[43m)\u001b[49m\u001b[43m,\u001b[49m\u001b[43m \u001b[49m\u001b[43mcond_img\u001b[49m\u001b[43m)\u001b[49m\n",
      "File \u001b[0;32m~/miniconda3/envs/eiden/lib/python3.10/site-packages/torch/utils/_contextlib.py:116\u001b[0m, in \u001b[0;36mcontext_decorator.<locals>.decorate_context\u001b[0;34m(*args, **kwargs)\u001b[0m\n\u001b[1;32m    113\u001b[0m \u001b[38;5;129m@functools\u001b[39m\u001b[38;5;241m.\u001b[39mwraps(func)\n\u001b[1;32m    114\u001b[0m \u001b[38;5;28;01mdef\u001b[39;00m\u001b[38;5;250m \u001b[39m\u001b[38;5;21mdecorate_context\u001b[39m(\u001b[38;5;241m*\u001b[39margs, \u001b[38;5;241m*\u001b[39m\u001b[38;5;241m*\u001b[39mkwargs):\n\u001b[1;32m    115\u001b[0m     \u001b[38;5;28;01mwith\u001b[39;00m ctx_factory():\n\u001b[0;32m--> 116\u001b[0m         \u001b[38;5;28;01mreturn\u001b[39;00m \u001b[43mfunc\u001b[49m\u001b[43m(\u001b[49m\u001b[38;5;241;43m*\u001b[39;49m\u001b[43margs\u001b[49m\u001b[43m,\u001b[49m\u001b[43m \u001b[49m\u001b[38;5;241;43m*\u001b[39;49m\u001b[38;5;241;43m*\u001b[39;49m\u001b[43mkwargs\u001b[49m\u001b[43m)\u001b[49m\n",
      "File \u001b[0;32m~/eiden/SNUH_AI_Research_2025/source/tutorials/../models/med_seg_diff.py:760\u001b[0m, in \u001b[0;36mMedSegDiff.p_sample_loop\u001b[0;34m(self, shape, cond)\u001b[0m\n\u001b[1;32m    758\u001b[0m \u001b[38;5;28;01mfor\u001b[39;00m t \u001b[38;5;129;01min\u001b[39;00m tqdm(\u001b[38;5;28mreversed\u001b[39m(\u001b[38;5;28mrange\u001b[39m(\u001b[38;5;241m0\u001b[39m, \u001b[38;5;28mself\u001b[39m\u001b[38;5;241m.\u001b[39mnum_timesteps)), desc \u001b[38;5;241m=\u001b[39m \u001b[38;5;124m'\u001b[39m\u001b[38;5;124msampling loop time step\u001b[39m\u001b[38;5;124m'\u001b[39m, total \u001b[38;5;241m=\u001b[39m \u001b[38;5;28mself\u001b[39m\u001b[38;5;241m.\u001b[39mnum_timesteps):\n\u001b[1;32m    759\u001b[0m     self_cond \u001b[38;5;241m=\u001b[39m x_start \u001b[38;5;28;01mif\u001b[39;00m \u001b[38;5;28mself\u001b[39m\u001b[38;5;241m.\u001b[39mself_condition \u001b[38;5;28;01melse\u001b[39;00m \u001b[38;5;28;01mNone\u001b[39;00m\n\u001b[0;32m--> 760\u001b[0m     img, x_start \u001b[38;5;241m=\u001b[39m \u001b[38;5;28;43mself\u001b[39;49m\u001b[38;5;241;43m.\u001b[39;49m\u001b[43mp_sample\u001b[49m\u001b[43m(\u001b[49m\u001b[43mimg\u001b[49m\u001b[43m,\u001b[49m\u001b[43m \u001b[49m\u001b[43mt\u001b[49m\u001b[43m,\u001b[49m\u001b[43m \u001b[49m\u001b[43mcond\u001b[49m\u001b[43m,\u001b[49m\u001b[43m \u001b[49m\u001b[43mself_cond\u001b[49m\u001b[43m)\u001b[49m\n\u001b[1;32m    762\u001b[0m img \u001b[38;5;241m=\u001b[39m unnormalize_to_zero_to_one(img)\n\u001b[1;32m    763\u001b[0m \u001b[38;5;28;01mreturn\u001b[39;00m img\n",
      "File \u001b[0;32m~/miniconda3/envs/eiden/lib/python3.10/site-packages/torch/utils/_contextlib.py:116\u001b[0m, in \u001b[0;36mcontext_decorator.<locals>.decorate_context\u001b[0;34m(*args, **kwargs)\u001b[0m\n\u001b[1;32m    113\u001b[0m \u001b[38;5;129m@functools\u001b[39m\u001b[38;5;241m.\u001b[39mwraps(func)\n\u001b[1;32m    114\u001b[0m \u001b[38;5;28;01mdef\u001b[39;00m\u001b[38;5;250m \u001b[39m\u001b[38;5;21mdecorate_context\u001b[39m(\u001b[38;5;241m*\u001b[39margs, \u001b[38;5;241m*\u001b[39m\u001b[38;5;241m*\u001b[39mkwargs):\n\u001b[1;32m    115\u001b[0m     \u001b[38;5;28;01mwith\u001b[39;00m ctx_factory():\n\u001b[0;32m--> 116\u001b[0m         \u001b[38;5;28;01mreturn\u001b[39;00m \u001b[43mfunc\u001b[49m\u001b[43m(\u001b[49m\u001b[38;5;241;43m*\u001b[39;49m\u001b[43margs\u001b[49m\u001b[43m,\u001b[49m\u001b[43m \u001b[49m\u001b[38;5;241;43m*\u001b[39;49m\u001b[38;5;241;43m*\u001b[39;49m\u001b[43mkwargs\u001b[49m\u001b[43m)\u001b[49m\n",
      "File \u001b[0;32m~/eiden/SNUH_AI_Research_2025/source/tutorials/../models/med_seg_diff.py:745\u001b[0m, in \u001b[0;36mMedSegDiff.p_sample\u001b[0;34m(self, x, t, c, x_self_cond, clip_denoised)\u001b[0m\n\u001b[1;32m    743\u001b[0m b, \u001b[38;5;241m*\u001b[39m_, device \u001b[38;5;241m=\u001b[39m \u001b[38;5;241m*\u001b[39mx\u001b[38;5;241m.\u001b[39mshape, x\u001b[38;5;241m.\u001b[39mdevice\n\u001b[1;32m    744\u001b[0m batched_times \u001b[38;5;241m=\u001b[39m torch\u001b[38;5;241m.\u001b[39mfull((x\u001b[38;5;241m.\u001b[39mshape[\u001b[38;5;241m0\u001b[39m],), t, device \u001b[38;5;241m=\u001b[39m x\u001b[38;5;241m.\u001b[39mdevice, dtype \u001b[38;5;241m=\u001b[39m torch\u001b[38;5;241m.\u001b[39mlong)\n\u001b[0;32m--> 745\u001b[0m model_mean, _, model_log_variance, x_start \u001b[38;5;241m=\u001b[39m \u001b[38;5;28;43mself\u001b[39;49m\u001b[38;5;241;43m.\u001b[39;49m\u001b[43mp_mean_variance\u001b[49m\u001b[43m(\u001b[49m\u001b[43mx\u001b[49m\u001b[43m \u001b[49m\u001b[38;5;241;43m=\u001b[39;49m\u001b[43m \u001b[49m\u001b[43mx\u001b[49m\u001b[43m,\u001b[49m\u001b[43m \u001b[49m\u001b[43mt\u001b[49m\u001b[43m \u001b[49m\u001b[38;5;241;43m=\u001b[39;49m\u001b[43m \u001b[49m\u001b[43mbatched_times\u001b[49m\u001b[43m,\u001b[49m\u001b[43m \u001b[49m\u001b[43mc\u001b[49m\u001b[43m \u001b[49m\u001b[38;5;241;43m=\u001b[39;49m\u001b[43m \u001b[49m\u001b[43mc\u001b[49m\u001b[43m,\u001b[49m\u001b[43m \u001b[49m\u001b[43mx_self_cond\u001b[49m\u001b[43m \u001b[49m\u001b[38;5;241;43m=\u001b[39;49m\u001b[43m \u001b[49m\u001b[43mx_self_cond\u001b[49m\u001b[43m,\u001b[49m\u001b[43m \u001b[49m\u001b[43mclip_denoised\u001b[49m\u001b[43m \u001b[49m\u001b[38;5;241;43m=\u001b[39;49m\u001b[43m \u001b[49m\u001b[43mclip_denoised\u001b[49m\u001b[43m)\u001b[49m\n\u001b[1;32m    746\u001b[0m noise \u001b[38;5;241m=\u001b[39m torch\u001b[38;5;241m.\u001b[39mrandn_like(x) \u001b[38;5;28;01mif\u001b[39;00m t \u001b[38;5;241m>\u001b[39m \u001b[38;5;241m0\u001b[39m \u001b[38;5;28;01melse\u001b[39;00m \u001b[38;5;241m0.\u001b[39m \u001b[38;5;66;03m# no noise if t == 0\u001b[39;00m\n\u001b[1;32m    747\u001b[0m pred_img \u001b[38;5;241m=\u001b[39m model_mean \u001b[38;5;241m+\u001b[39m (\u001b[38;5;241m0.5\u001b[39m \u001b[38;5;241m*\u001b[39m model_log_variance)\u001b[38;5;241m.\u001b[39mexp() \u001b[38;5;241m*\u001b[39m noise\n",
      "File \u001b[0;32m~/eiden/SNUH_AI_Research_2025/source/tutorials/../models/med_seg_diff.py:732\u001b[0m, in \u001b[0;36mMedSegDiff.p_mean_variance\u001b[0;34m(self, x, t, c, x_self_cond, clip_denoised)\u001b[0m\n\u001b[1;32m    731\u001b[0m \u001b[38;5;28;01mdef\u001b[39;00m\u001b[38;5;250m \u001b[39m\u001b[38;5;21mp_mean_variance\u001b[39m(\u001b[38;5;28mself\u001b[39m, x, t, c, x_self_cond \u001b[38;5;241m=\u001b[39m \u001b[38;5;28;01mNone\u001b[39;00m, clip_denoised \u001b[38;5;241m=\u001b[39m \u001b[38;5;28;01mTrue\u001b[39;00m):\n\u001b[0;32m--> 732\u001b[0m     preds \u001b[38;5;241m=\u001b[39m \u001b[38;5;28;43mself\u001b[39;49m\u001b[38;5;241;43m.\u001b[39;49m\u001b[43mmodel_predictions\u001b[49m\u001b[43m(\u001b[49m\u001b[43mx\u001b[49m\u001b[43m,\u001b[49m\u001b[43m \u001b[49m\u001b[43mt\u001b[49m\u001b[43m,\u001b[49m\u001b[43m \u001b[49m\u001b[43mc\u001b[49m\u001b[43m,\u001b[49m\u001b[43m \u001b[49m\u001b[43mx_self_cond\u001b[49m\u001b[43m)\u001b[49m\n\u001b[1;32m    733\u001b[0m     x_start \u001b[38;5;241m=\u001b[39m preds\u001b[38;5;241m.\u001b[39mpred_x_start\n\u001b[1;32m    735\u001b[0m     \u001b[38;5;28;01mif\u001b[39;00m clip_denoised:\n",
      "File \u001b[0;32m~/eiden/SNUH_AI_Research_2025/source/tutorials/../models/med_seg_diff.py:710\u001b[0m, in \u001b[0;36mMedSegDiff.model_predictions\u001b[0;34m(self, x, t, c, x_self_cond, clip_x_start)\u001b[0m\n\u001b[1;32m    709\u001b[0m \u001b[38;5;28;01mdef\u001b[39;00m\u001b[38;5;250m \u001b[39m\u001b[38;5;21mmodel_predictions\u001b[39m(\u001b[38;5;28mself\u001b[39m, x, t, c, x_self_cond \u001b[38;5;241m=\u001b[39m \u001b[38;5;28;01mNone\u001b[39;00m, clip_x_start \u001b[38;5;241m=\u001b[39m \u001b[38;5;28;01mFalse\u001b[39;00m):\n\u001b[0;32m--> 710\u001b[0m     model_output \u001b[38;5;241m=\u001b[39m \u001b[38;5;28;43mself\u001b[39;49m\u001b[38;5;241;43m.\u001b[39;49m\u001b[43mmodel\u001b[49m\u001b[43m(\u001b[49m\u001b[43mx\u001b[49m\u001b[43m,\u001b[49m\u001b[43m \u001b[49m\u001b[43mt\u001b[49m\u001b[43m,\u001b[49m\u001b[43m \u001b[49m\u001b[43mc\u001b[49m\u001b[43m,\u001b[49m\u001b[43m \u001b[49m\u001b[43mx_self_cond\u001b[49m\u001b[43m)\u001b[49m\n\u001b[1;32m    711\u001b[0m     maybe_clip \u001b[38;5;241m=\u001b[39m partial(torch\u001b[38;5;241m.\u001b[39mclamp, \u001b[38;5;28mmin\u001b[39m \u001b[38;5;241m=\u001b[39m \u001b[38;5;241m-\u001b[39m\u001b[38;5;241m1.\u001b[39m, \u001b[38;5;28mmax\u001b[39m \u001b[38;5;241m=\u001b[39m \u001b[38;5;241m1.\u001b[39m) \u001b[38;5;28;01mif\u001b[39;00m clip_x_start \u001b[38;5;28;01melse\u001b[39;00m identity\n\u001b[1;32m    713\u001b[0m     \u001b[38;5;28;01mif\u001b[39;00m \u001b[38;5;28mself\u001b[39m\u001b[38;5;241m.\u001b[39mobjective \u001b[38;5;241m==\u001b[39m \u001b[38;5;124m'\u001b[39m\u001b[38;5;124mpred_noise\u001b[39m\u001b[38;5;124m'\u001b[39m:\n",
      "File \u001b[0;32m~/miniconda3/envs/eiden/lib/python3.10/site-packages/torch/nn/modules/module.py:1739\u001b[0m, in \u001b[0;36mModule._wrapped_call_impl\u001b[0;34m(self, *args, **kwargs)\u001b[0m\n\u001b[1;32m   1737\u001b[0m     \u001b[38;5;28;01mreturn\u001b[39;00m \u001b[38;5;28mself\u001b[39m\u001b[38;5;241m.\u001b[39m_compiled_call_impl(\u001b[38;5;241m*\u001b[39margs, \u001b[38;5;241m*\u001b[39m\u001b[38;5;241m*\u001b[39mkwargs)  \u001b[38;5;66;03m# type: ignore[misc]\u001b[39;00m\n\u001b[1;32m   1738\u001b[0m \u001b[38;5;28;01melse\u001b[39;00m:\n\u001b[0;32m-> 1739\u001b[0m     \u001b[38;5;28;01mreturn\u001b[39;00m \u001b[38;5;28;43mself\u001b[39;49m\u001b[38;5;241;43m.\u001b[39;49m\u001b[43m_call_impl\u001b[49m\u001b[43m(\u001b[49m\u001b[38;5;241;43m*\u001b[39;49m\u001b[43margs\u001b[49m\u001b[43m,\u001b[49m\u001b[43m \u001b[49m\u001b[38;5;241;43m*\u001b[39;49m\u001b[38;5;241;43m*\u001b[39;49m\u001b[43mkwargs\u001b[49m\u001b[43m)\u001b[49m\n",
      "File \u001b[0;32m~/miniconda3/envs/eiden/lib/python3.10/site-packages/torch/nn/modules/module.py:1750\u001b[0m, in \u001b[0;36mModule._call_impl\u001b[0;34m(self, *args, **kwargs)\u001b[0m\n\u001b[1;32m   1745\u001b[0m \u001b[38;5;66;03m# If we don't have any hooks, we want to skip the rest of the logic in\u001b[39;00m\n\u001b[1;32m   1746\u001b[0m \u001b[38;5;66;03m# this function, and just call forward.\u001b[39;00m\n\u001b[1;32m   1747\u001b[0m \u001b[38;5;28;01mif\u001b[39;00m \u001b[38;5;129;01mnot\u001b[39;00m (\u001b[38;5;28mself\u001b[39m\u001b[38;5;241m.\u001b[39m_backward_hooks \u001b[38;5;129;01mor\u001b[39;00m \u001b[38;5;28mself\u001b[39m\u001b[38;5;241m.\u001b[39m_backward_pre_hooks \u001b[38;5;129;01mor\u001b[39;00m \u001b[38;5;28mself\u001b[39m\u001b[38;5;241m.\u001b[39m_forward_hooks \u001b[38;5;129;01mor\u001b[39;00m \u001b[38;5;28mself\u001b[39m\u001b[38;5;241m.\u001b[39m_forward_pre_hooks\n\u001b[1;32m   1748\u001b[0m         \u001b[38;5;129;01mor\u001b[39;00m _global_backward_pre_hooks \u001b[38;5;129;01mor\u001b[39;00m _global_backward_hooks\n\u001b[1;32m   1749\u001b[0m         \u001b[38;5;129;01mor\u001b[39;00m _global_forward_hooks \u001b[38;5;129;01mor\u001b[39;00m _global_forward_pre_hooks):\n\u001b[0;32m-> 1750\u001b[0m     \u001b[38;5;28;01mreturn\u001b[39;00m \u001b[43mforward_call\u001b[49m\u001b[43m(\u001b[49m\u001b[38;5;241;43m*\u001b[39;49m\u001b[43margs\u001b[49m\u001b[43m,\u001b[49m\u001b[43m \u001b[49m\u001b[38;5;241;43m*\u001b[39;49m\u001b[38;5;241;43m*\u001b[39;49m\u001b[43mkwargs\u001b[49m\u001b[43m)\u001b[49m\n\u001b[1;32m   1752\u001b[0m result \u001b[38;5;241m=\u001b[39m \u001b[38;5;28;01mNone\u001b[39;00m\n\u001b[1;32m   1753\u001b[0m called_always_called_hooks \u001b[38;5;241m=\u001b[39m \u001b[38;5;28mset\u001b[39m()\n",
      "File \u001b[0;32m~/eiden/SNUH_AI_Research_2025/source/tutorials/../models/med_seg_diff.py:538\u001b[0m, in \u001b[0;36mUnet.forward\u001b[0;34m(self, x, time, cond, x_self_cond)\u001b[0m\n\u001b[1;32m    533\u001b[0m c \u001b[38;5;241m=\u001b[39m cond_attn(c)\n\u001b[1;32m    535\u001b[0m \u001b[38;5;66;03m# condition using modulation of fourier frequencies with attentive map\u001b[39;00m\n\u001b[1;32m    536\u001b[0m \u001b[38;5;66;03m# you can test your own conditioners by passing in a different conditioner_klass , if you believe you can best the paper\u001b[39;00m\n\u001b[0;32m--> 538\u001b[0m c \u001b[38;5;241m=\u001b[39m \u001b[43mconditioner\u001b[49m\u001b[43m(\u001b[49m\u001b[43mx\u001b[49m\u001b[43m,\u001b[49m\u001b[43m \u001b[49m\u001b[43mc\u001b[49m\u001b[43m)\u001b[49m\n\u001b[1;32m    540\u001b[0m h\u001b[38;5;241m.\u001b[39mappend([x, c] \u001b[38;5;28;01mif\u001b[39;00m skip_connect_c \u001b[38;5;28;01melse\u001b[39;00m [x])\n\u001b[1;32m    542\u001b[0m x \u001b[38;5;241m=\u001b[39m downsample(x)\n",
      "File \u001b[0;32m~/miniconda3/envs/eiden/lib/python3.10/site-packages/torch/nn/modules/module.py:1739\u001b[0m, in \u001b[0;36mModule._wrapped_call_impl\u001b[0;34m(self, *args, **kwargs)\u001b[0m\n\u001b[1;32m   1737\u001b[0m     \u001b[38;5;28;01mreturn\u001b[39;00m \u001b[38;5;28mself\u001b[39m\u001b[38;5;241m.\u001b[39m_compiled_call_impl(\u001b[38;5;241m*\u001b[39margs, \u001b[38;5;241m*\u001b[39m\u001b[38;5;241m*\u001b[39mkwargs)  \u001b[38;5;66;03m# type: ignore[misc]\u001b[39;00m\n\u001b[1;32m   1738\u001b[0m \u001b[38;5;28;01melse\u001b[39;00m:\n\u001b[0;32m-> 1739\u001b[0m     \u001b[38;5;28;01mreturn\u001b[39;00m \u001b[38;5;28;43mself\u001b[39;49m\u001b[38;5;241;43m.\u001b[39;49m\u001b[43m_call_impl\u001b[49m\u001b[43m(\u001b[49m\u001b[38;5;241;43m*\u001b[39;49m\u001b[43margs\u001b[49m\u001b[43m,\u001b[49m\u001b[43m \u001b[49m\u001b[38;5;241;43m*\u001b[39;49m\u001b[38;5;241;43m*\u001b[39;49m\u001b[43mkwargs\u001b[49m\u001b[43m)\u001b[49m\n",
      "File \u001b[0;32m~/miniconda3/envs/eiden/lib/python3.10/site-packages/torch/nn/modules/module.py:1750\u001b[0m, in \u001b[0;36mModule._call_impl\u001b[0;34m(self, *args, **kwargs)\u001b[0m\n\u001b[1;32m   1745\u001b[0m \u001b[38;5;66;03m# If we don't have any hooks, we want to skip the rest of the logic in\u001b[39;00m\n\u001b[1;32m   1746\u001b[0m \u001b[38;5;66;03m# this function, and just call forward.\u001b[39;00m\n\u001b[1;32m   1747\u001b[0m \u001b[38;5;28;01mif\u001b[39;00m \u001b[38;5;129;01mnot\u001b[39;00m (\u001b[38;5;28mself\u001b[39m\u001b[38;5;241m.\u001b[39m_backward_hooks \u001b[38;5;129;01mor\u001b[39;00m \u001b[38;5;28mself\u001b[39m\u001b[38;5;241m.\u001b[39m_backward_pre_hooks \u001b[38;5;129;01mor\u001b[39;00m \u001b[38;5;28mself\u001b[39m\u001b[38;5;241m.\u001b[39m_forward_hooks \u001b[38;5;129;01mor\u001b[39;00m \u001b[38;5;28mself\u001b[39m\u001b[38;5;241m.\u001b[39m_forward_pre_hooks\n\u001b[1;32m   1748\u001b[0m         \u001b[38;5;129;01mor\u001b[39;00m _global_backward_pre_hooks \u001b[38;5;129;01mor\u001b[39;00m _global_backward_hooks\n\u001b[1;32m   1749\u001b[0m         \u001b[38;5;129;01mor\u001b[39;00m _global_forward_hooks \u001b[38;5;129;01mor\u001b[39;00m _global_forward_pre_hooks):\n\u001b[0;32m-> 1750\u001b[0m     \u001b[38;5;28;01mreturn\u001b[39;00m \u001b[43mforward_call\u001b[49m\u001b[43m(\u001b[49m\u001b[38;5;241;43m*\u001b[39;49m\u001b[43margs\u001b[49m\u001b[43m,\u001b[49m\u001b[43m \u001b[49m\u001b[38;5;241;43m*\u001b[39;49m\u001b[38;5;241;43m*\u001b[39;49m\u001b[43mkwargs\u001b[49m\u001b[43m)\u001b[49m\n\u001b[1;32m   1752\u001b[0m result \u001b[38;5;241m=\u001b[39m \u001b[38;5;28;01mNone\u001b[39;00m\n\u001b[1;32m   1753\u001b[0m called_always_called_hooks \u001b[38;5;241m=\u001b[39m \u001b[38;5;28mset\u001b[39m()\n",
      "File \u001b[0;32m~/eiden/SNUH_AI_Research_2025/source/tutorials/../models/med_seg_diff.py:350\u001b[0m, in \u001b[0;36mConditioning.forward\u001b[0;34m(self, x, c)\u001b[0m\n\u001b[1;32m    347\u001b[0m \u001b[38;5;66;03m# eq 3 in paper\u001b[39;00m\n\u001b[1;32m    349\u001b[0m normed_x \u001b[38;5;241m=\u001b[39m \u001b[38;5;28mself\u001b[39m\u001b[38;5;241m.\u001b[39mnorm_input(x)\n\u001b[0;32m--> 350\u001b[0m normed_c \u001b[38;5;241m=\u001b[39m \u001b[38;5;28;43mself\u001b[39;49m\u001b[38;5;241;43m.\u001b[39;49m\u001b[43mnorm_condition\u001b[49m\u001b[43m(\u001b[49m\u001b[43mc\u001b[49m\u001b[43m)\u001b[49m\n\u001b[1;32m    351\u001b[0m c \u001b[38;5;241m=\u001b[39m (normed_x \u001b[38;5;241m*\u001b[39m normed_c) \u001b[38;5;241m*\u001b[39m c\n\u001b[1;32m    353\u001b[0m \u001b[38;5;66;03m# add an extra block to allow for more integration of information\u001b[39;00m\n\u001b[1;32m    354\u001b[0m \u001b[38;5;66;03m# there is a downsample right after the Condition block (but maybe theres a better place to condition than right before the downsample)\u001b[39;00m\n",
      "File \u001b[0;32m~/miniconda3/envs/eiden/lib/python3.10/site-packages/torch/nn/modules/module.py:1739\u001b[0m, in \u001b[0;36mModule._wrapped_call_impl\u001b[0;34m(self, *args, **kwargs)\u001b[0m\n\u001b[1;32m   1737\u001b[0m     \u001b[38;5;28;01mreturn\u001b[39;00m \u001b[38;5;28mself\u001b[39m\u001b[38;5;241m.\u001b[39m_compiled_call_impl(\u001b[38;5;241m*\u001b[39margs, \u001b[38;5;241m*\u001b[39m\u001b[38;5;241m*\u001b[39mkwargs)  \u001b[38;5;66;03m# type: ignore[misc]\u001b[39;00m\n\u001b[1;32m   1738\u001b[0m \u001b[38;5;28;01melse\u001b[39;00m:\n\u001b[0;32m-> 1739\u001b[0m     \u001b[38;5;28;01mreturn\u001b[39;00m \u001b[38;5;28;43mself\u001b[39;49m\u001b[38;5;241;43m.\u001b[39;49m\u001b[43m_call_impl\u001b[49m\u001b[43m(\u001b[49m\u001b[38;5;241;43m*\u001b[39;49m\u001b[43margs\u001b[49m\u001b[43m,\u001b[49m\u001b[43m \u001b[49m\u001b[38;5;241;43m*\u001b[39;49m\u001b[38;5;241;43m*\u001b[39;49m\u001b[43mkwargs\u001b[49m\u001b[43m)\u001b[49m\n",
      "File \u001b[0;32m~/miniconda3/envs/eiden/lib/python3.10/site-packages/torch/nn/modules/module.py:1750\u001b[0m, in \u001b[0;36mModule._call_impl\u001b[0;34m(self, *args, **kwargs)\u001b[0m\n\u001b[1;32m   1745\u001b[0m \u001b[38;5;66;03m# If we don't have any hooks, we want to skip the rest of the logic in\u001b[39;00m\n\u001b[1;32m   1746\u001b[0m \u001b[38;5;66;03m# this function, and just call forward.\u001b[39;00m\n\u001b[1;32m   1747\u001b[0m \u001b[38;5;28;01mif\u001b[39;00m \u001b[38;5;129;01mnot\u001b[39;00m (\u001b[38;5;28mself\u001b[39m\u001b[38;5;241m.\u001b[39m_backward_hooks \u001b[38;5;129;01mor\u001b[39;00m \u001b[38;5;28mself\u001b[39m\u001b[38;5;241m.\u001b[39m_backward_pre_hooks \u001b[38;5;129;01mor\u001b[39;00m \u001b[38;5;28mself\u001b[39m\u001b[38;5;241m.\u001b[39m_forward_hooks \u001b[38;5;129;01mor\u001b[39;00m \u001b[38;5;28mself\u001b[39m\u001b[38;5;241m.\u001b[39m_forward_pre_hooks\n\u001b[1;32m   1748\u001b[0m         \u001b[38;5;129;01mor\u001b[39;00m _global_backward_pre_hooks \u001b[38;5;129;01mor\u001b[39;00m _global_backward_hooks\n\u001b[1;32m   1749\u001b[0m         \u001b[38;5;129;01mor\u001b[39;00m _global_forward_hooks \u001b[38;5;129;01mor\u001b[39;00m _global_forward_pre_hooks):\n\u001b[0;32m-> 1750\u001b[0m     \u001b[38;5;28;01mreturn\u001b[39;00m \u001b[43mforward_call\u001b[49m\u001b[43m(\u001b[49m\u001b[38;5;241;43m*\u001b[39;49m\u001b[43margs\u001b[49m\u001b[43m,\u001b[49m\u001b[43m \u001b[49m\u001b[38;5;241;43m*\u001b[39;49m\u001b[38;5;241;43m*\u001b[39;49m\u001b[43mkwargs\u001b[49m\u001b[43m)\u001b[49m\n\u001b[1;32m   1752\u001b[0m result \u001b[38;5;241m=\u001b[39m \u001b[38;5;28;01mNone\u001b[39;00m\n\u001b[1;32m   1753\u001b[0m called_always_called_hooks \u001b[38;5;241m=\u001b[39m \u001b[38;5;28mset\u001b[39m()\n",
      "File \u001b[0;32m~/eiden/SNUH_AI_Research_2025/source/tutorials/../models/med_seg_diff.py:77\u001b[0m, in \u001b[0;36mLayerNorm.forward\u001b[0;34m(self, x)\u001b[0m\n\u001b[1;32m     75\u001b[0m var \u001b[38;5;241m=\u001b[39m torch\u001b[38;5;241m.\u001b[39mvar(x, dim \u001b[38;5;241m=\u001b[39m \u001b[38;5;241m1\u001b[39m, unbiased \u001b[38;5;241m=\u001b[39m \u001b[38;5;28;01mFalse\u001b[39;00m, keepdim \u001b[38;5;241m=\u001b[39m \u001b[38;5;28;01mTrue\u001b[39;00m)\n\u001b[1;32m     76\u001b[0m mean \u001b[38;5;241m=\u001b[39m torch\u001b[38;5;241m.\u001b[39mmean(x, dim \u001b[38;5;241m=\u001b[39m \u001b[38;5;241m1\u001b[39m, keepdim \u001b[38;5;241m=\u001b[39m \u001b[38;5;28;01mTrue\u001b[39;00m)\n\u001b[0;32m---> 77\u001b[0m \u001b[38;5;28;01mreturn\u001b[39;00m (x \u001b[38;5;241m-\u001b[39m mean) \u001b[38;5;241m*\u001b[39m \u001b[43m(\u001b[49m\u001b[43mvar\u001b[49m\u001b[43m \u001b[49m\u001b[38;5;241;43m+\u001b[39;49m\u001b[43m \u001b[49m\u001b[43meps\u001b[49m\u001b[43m)\u001b[49m\u001b[38;5;241;43m.\u001b[39;49m\u001b[43mrsqrt\u001b[49m\u001b[43m(\u001b[49m\u001b[43m)\u001b[49m \u001b[38;5;241m*\u001b[39m \u001b[38;5;28mself\u001b[39m\u001b[38;5;241m.\u001b[39mg \u001b[38;5;241m+\u001b[39m default(\u001b[38;5;28mself\u001b[39m\u001b[38;5;241m.\u001b[39mb, \u001b[38;5;241m0\u001b[39m)\n",
      "\u001b[0;31mKeyboardInterrupt\u001b[0m: "
     ]
    }
   ],
   "source": [
    "import os\n",
    "os.environ[\"CUDA_VISIBLE_DEVICES\"] = \"0,1\"\n",
    "import torch\n",
    "print(torch.cuda.device_count()) \n",
    "\n",
    "import sys\n",
    "sys.path.append('../')\n",
    "from models.med_seg_diff import build_model as build_model_med_seg_diff\n",
    "from Args import Args_experiments\n",
    "seg_model = build_model_med_seg_diff(device = Args_experiments.device)\n",
    "import torch\n",
    "segmented_imgs = torch.rand(8, 1, 224, 224)  # inputs are normalized from 0 to 1\n",
    "input_imgs = torch.rand(8, 1, 224, 224)\n",
    "\n",
    "loss = seg_model(segmented_imgs, input_imgs)\n",
    "loss.backward()\n",
    "\n",
    "# after a lot of training\n",
    "pred = seg_model.sample(input_imgs)     # pass in your unsegmented images\n",
    "pred.shape                              # predicted segmented images - (8, 3, 128, 128)\n"
   ]
  }
 ],
 "metadata": {
  "kernelspec": {
   "display_name": "eiden",
   "language": "python",
   "name": "python3"
  },
  "language_info": {
   "codemirror_mode": {
    "name": "ipython",
    "version": 3
   },
   "file_extension": ".py",
   "mimetype": "text/x-python",
   "name": "python",
   "nbconvert_exporter": "python",
   "pygments_lexer": "ipython3",
   "version": "3.10.0"
  }
 },
 "nbformat": 4,
 "nbformat_minor": 2
}
