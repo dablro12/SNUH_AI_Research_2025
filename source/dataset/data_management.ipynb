{
 "cells": [
  {
   "cell_type": "code",
   "execution_count": 1,
   "metadata": {},
   "outputs": [],
   "source": [
    "image_dir = \"/home/medisc/eiden/SNUH_AI_Research_2025/source/dataset/image\"\n",
    "mask_dir = \"/home/medisc/eiden/SNUH_AI_Research_2025/source/dataset/mask\""
   ]
  },
  {
   "cell_type": "code",
   "execution_count": 3,
   "metadata": {},
   "outputs": [
    {
     "name": "stdout",
     "output_type": "stream",
     "text": [
      "[INFO] Tuning set: 160\n",
      "[INFO] Test set: 40\n"
     ]
    }
   ],
   "source": [
    "import glob\n",
    "import sys,os \n",
    "import pandas as pd \n",
    "\n",
    "\n",
    "image_paths = [os.path.basename(path) for path in glob.glob(os.path.join(image_dir, \"*\"))]\n",
    "mask_paths = [os.path.basename(path) for path in glob.glob(os.path.join(mask_dir, \"*\"))]\n",
    "\n",
    "image_save_filenames = [os.path.basename(path) for path in glob.glob(os.path.join(image_dir, \"*\"))]\n",
    "mask_save_filenames = [os.path.basename(path) for path in glob.glob(os.path.join(mask_dir, \"*\"))]\n",
    "\n",
    "from sklearn.model_selection import train_test_split\n",
    "\n",
    "df = pd.DataFrame({\"image_filename\": image_save_filenames, \"mask_save_path\": mask_save_filenames})\n",
    "# tuning_df: 튜닝셋, test_df: 테스트셋\n",
    "tuning_df, test_df = train_test_split(df, test_size=0.2, random_state=42, shuffle=True)\n",
    "\n",
    "print(f\"[INFO] Tuning set: {len(tuning_df)}\")\n",
    "print(f\"[INFO] Test set: {len(test_df)}\")\n",
    "\n",
    "tuning_df.to_csv(\"tuning_df.csv\", index=False)\n",
    "test_df.to_csv(\"test_df.csv\", index=False)"
   ]
  },
  {
   "cell_type": "code",
   "execution_count": null,
   "metadata": {},
   "outputs": [],
   "source": []
  }
 ],
 "metadata": {
  "kernelspec": {
   "display_name": "eiden",
   "language": "python",
   "name": "python3"
  },
  "language_info": {
   "codemirror_mode": {
    "name": "ipython",
    "version": 3
   },
   "file_extension": ".py",
   "mimetype": "text/x-python",
   "name": "python",
   "nbconvert_exporter": "python",
   "pygments_lexer": "ipython3",
   "version": "3.10.0"
  }
 },
 "nbformat": 4,
 "nbformat_minor": 2
}
